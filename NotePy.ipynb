{
  "nbformat": 4,
  "nbformat_minor": 0,
  "metadata": {
    "colab": {
      "provenance": [],
      "authorship_tag": "ABX9TyPn0O25t1co3SGKJ7QMdoZR",
      "include_colab_link": true
    },
    "kernelspec": {
      "name": "python3",
      "display_name": "Python 3"
    },
    "language_info": {
      "name": "python"
    }
  },
  "cells": [
    {
      "cell_type": "markdown",
      "metadata": {
        "id": "view-in-github",
        "colab_type": "text"
      },
      "source": [
        "<a href=\"https://colab.research.google.com/github/Arham-Aryan/NotePy/blob/main/NotePy.ipynb\" target=\"_parent\"><img src=\"https://colab.research.google.com/assets/colab-badge.svg\" alt=\"Open In Colab\"/></a>"
      ]
    },
    {
      "cell_type": "code",
      "execution_count": null,
      "metadata": {
        "colab": {
          "base_uri": "https://localhost:8080/"
        },
        "id": "aGE8nb1Hge4p",
        "outputId": "f0e5abcc-f686-4733-d0ef-fb9b4dd4ed04"
      },
      "outputs": [
        {
          "output_type": "stream",
          "name": "stdout",
          "text": [
            "This is Arham\n"
          ]
        }
      ],
      "source": [
        "print(\"This is Arham\")"
      ]
    },
    {
      "cell_type": "code",
      "source": [
        "text = \"Hello Guys\"\n",
        "print (text)"
      ],
      "metadata": {
        "colab": {
          "base_uri": "https://localhost:8080/"
        },
        "id": "jUAS9S4dhb26",
        "outputId": "fae33f88-0055-4857-947f-d2097e645904"
      },
      "execution_count": null,
      "outputs": [
        {
          "output_type": "stream",
          "name": "stdout",
          "text": [
            "Hello Guys\n"
          ]
        }
      ]
    },
    {
      "cell_type": "code",
      "source": [
        "number1 = 10\n",
        "number2 = 5\n",
        "\n",
        "result = number1 + number2\n",
        "print (result)"
      ],
      "metadata": {
        "colab": {
          "base_uri": "https://localhost:8080/"
        },
        "id": "_A5smkyzhodW",
        "outputId": "2f4c0b88-0e68-4e90-a251-21221dd69f74"
      },
      "execution_count": null,
      "outputs": [
        {
          "output_type": "stream",
          "name": "stdout",
          "text": [
            "15\n"
          ]
        }
      ]
    },
    {
      "cell_type": "code",
      "source": [
        "number1 = input (\"Pleased type an integer and press enter: \")\n",
        "number2 = input (\"Type another integer and press enter:  \")\n",
        "number1 = int(number1)\n",
        "number2 = int(number2)\n",
        "print (\"number1+number2 = \",number1+number2)"
      ],
      "metadata": {
        "id": "qd-lV99SiC4T",
        "colab": {
          "base_uri": "https://localhost:8080/"
        },
        "outputId": "b5b3fddc-34da-4dda-fb04-dbec52cb2d2a"
      },
      "execution_count": null,
      "outputs": [
        {
          "output_type": "stream",
          "name": "stdout",
          "text": [
            "Pleased type an integer and press enter: 4\n",
            "Type another integer and press enter:  9\n",
            "number1+number2 =  13\n"
          ]
        }
      ]
    },
    {
      "cell_type": "code",
      "source": [
        "Murphy = 40\n",
        "Nolan = 30\n",
        "Murphy >= Nolan"
      ],
      "metadata": {
        "colab": {
          "base_uri": "https://localhost:8080/"
        },
        "id": "KvlsHxlu_FUe",
        "outputId": "63e3a77f-8dc0-4858-fa4e-613ed3983376"
      },
      "execution_count": null,
      "outputs": [
        {
          "output_type": "execute_result",
          "data": {
            "text/plain": [
              "True"
            ]
          },
          "metadata": {},
          "execution_count": 8
        }
      ]
    },
    {
      "cell_type": "code",
      "source": [
        "today = \"Wednesday\"\n",
        "not (today == \"Wednesday\")\n"
      ],
      "metadata": {
        "colab": {
          "base_uri": "https://localhost:8080/"
        },
        "id": "zqOs3ZSu_9mw",
        "outputId": "6c307399-c25d-44b7-f6ad-13f50fd90dc1"
      },
      "execution_count": null,
      "outputs": [
        {
          "output_type": "execute_result",
          "data": {
            "text/plain": [
              "False"
            ]
          },
          "metadata": {},
          "execution_count": 13
        }
      ]
    },
    {
      "cell_type": "code",
      "source": [
        "number = 20\n",
        "number>10 or number>100"
      ],
      "metadata": {
        "colab": {
          "base_uri": "https://localhost:8080/"
        },
        "id": "HnnX2sjhAuqu",
        "outputId": "b1006e8b-c6aa-49f6-b59c-9aec79401665"
      },
      "execution_count": null,
      "outputs": [
        {
          "output_type": "execute_result",
          "data": {
            "text/plain": [
              "True"
            ]
          },
          "metadata": {},
          "execution_count": 16
        }
      ]
    },
    {
      "cell_type": "code",
      "source": [
        "saarc = [\"Bangladesh\",\"Pakistan\",\"Sri Lanka\", \"Nepal\", \"Bhutan\"]\n",
        "print(saarc)\n",
        "print(saarc[0])"
      ],
      "metadata": {
        "colab": {
          "base_uri": "https://localhost:8080/"
        },
        "id": "Hi8Bff--C572",
        "outputId": "0472bc6e-17a6-44ae-e394-32200ed69d7c"
      },
      "execution_count": null,
      "outputs": [
        {
          "output_type": "stream",
          "name": "stdout",
          "text": [
            "['Bangladesh', 'Pakistan', 'Sri Lanka', 'Nepal', 'Bhutan']\n",
            "Bangladesh\n"
          ]
        }
      ]
    },
    {
      "cell_type": "code",
      "source": [
        "print(\"Number of countries in saarc: \",len(saarc))"
      ],
      "metadata": {
        "colab": {
          "base_uri": "https://localhost:8080/"
        },
        "id": "aJ0kzHeHDlB1",
        "outputId": "b7a25cb4-0826-42b2-98b6-948bf6fd7bf3"
      },
      "execution_count": null,
      "outputs": [
        {
          "output_type": "stream",
          "name": "stdout",
          "text": [
            "Number of countries in saarc:  5\n"
          ]
        }
      ]
    },
    {
      "cell_type": "code",
      "source": [
        "\"China\" in saarc"
      ],
      "metadata": {
        "colab": {
          "base_uri": "https://localhost:8080/"
        },
        "id": "SeiGqtN3DzlG",
        "outputId": "8c3002e1-7bff-4bc0-84c2-0ecf95ada71d"
      },
      "execution_count": null,
      "outputs": [
        {
          "output_type": "execute_result",
          "data": {
            "text/plain": [
              "False"
            ]
          },
          "metadata": {},
          "execution_count": 22
        }
      ]
    },
    {
      "cell_type": "code",
      "source": [
        "country = input(\"Enter name of the country: \")\n",
        "if country in saarc:\n",
        "  print(country, \"is a member of saarc\")\n",
        "\n",
        "else:\n",
        "  print(country, \"not a member of saaec\")\n",
        "\n",
        "print(\"Program terminated\")"
      ],
      "metadata": {
        "colab": {
          "base_uri": "https://localhost:8080/"
        },
        "id": "Zf9dzF9AD6U5",
        "outputId": "086339c4-aa80-4400-8dc8-178159d5c6a1"
      },
      "execution_count": null,
      "outputs": [
        {
          "output_type": "stream",
          "name": "stdout",
          "text": [
            "Enter name of the country: Vietnam\n",
            "Vietnam not a member of saaec\n",
            "Program terminated\n"
          ]
        }
      ]
    },
    {
      "cell_type": "code",
      "source": [
        "marks = input(\"Please enter your marks: \")\n",
        "marks = int(marks)\n",
        "\n",
        "if marks>=80:\n",
        "  grade = \"A+\"\n",
        "elif marks>=70:\n",
        "  grade = \"A\"\n",
        "elif marks>=60:\n",
        "  grade = \"B\"\n",
        "else:\n",
        "  grade = \"F\"\n",
        "\n",
        "print(\"Your obtained grade is : \",grade)"
      ],
      "metadata": {
        "colab": {
          "base_uri": "https://localhost:8080/"
        },
        "id": "RBe7pDfeFFAG",
        "outputId": "2a2985b9-af85-48ae-8c5a-dae39038313d"
      },
      "execution_count": null,
      "outputs": [
        {
          "output_type": "stream",
          "name": "stdout",
          "text": [
            "Please enter your marks: 77\n",
            "Your obtained grade is :  A\n"
          ]
        }
      ]
    },
    {
      "cell_type": "code",
      "source": [
        "a=30\n",
        "b=20\n",
        "c=25\n",
        "if a>b:\n",
        "  max_number = a\n",
        "else:\n",
        "  max_number = b\n",
        "max_number"
      ],
      "metadata": {
        "colab": {
          "base_uri": "https://localhost:8080/"
        },
        "id": "CViTiu-K99fb",
        "outputId": "6cf9fb76-0d41-47f6-ba2c-adf2715d1fb0"
      },
      "execution_count": null,
      "outputs": [
        {
          "output_type": "execute_result",
          "data": {
            "text/plain": [
              "30"
            ]
          },
          "metadata": {},
          "execution_count": 5
        }
      ]
    },
    {
      "cell_type": "code",
      "source": [
        "if c>max_number:\n",
        "  max_number = c\n",
        "max_number"
      ],
      "metadata": {
        "colab": {
          "base_uri": "https://localhost:8080/"
        },
        "id": "5jIP5epf_oAr",
        "outputId": "04263d25-4191-4793-b77e-39d9e94e71cd"
      },
      "execution_count": null,
      "outputs": [
        {
          "output_type": "execute_result",
          "data": {
            "text/plain": [
              "30"
            ]
          },
          "metadata": {},
          "execution_count": 6
        }
      ]
    },
    {
      "cell_type": "code",
      "source": [
        "year = int(input(\"Enter the year: \"))\n",
        "if year % 4 == 0:\n",
        "    if year % 100 == 0:\n",
        "        if year % 400 == 0:\n",
        "            print(\"Yes\")\n",
        "        else:\n",
        "            print(\"No\")\n",
        "    else:\n",
        "        print(\"Yes\")\n",
        "else:\n",
        "    print(\"No\")\n"
      ],
      "metadata": {
        "colab": {
          "base_uri": "https://localhost:8080/"
        },
        "id": "3fJDW7-x_3uz",
        "outputId": "70814d65-2fc2-463c-e976-c84157fe9782"
      },
      "execution_count": null,
      "outputs": [
        {
          "output_type": "stream",
          "name": "stdout",
          "text": [
            "Enter the year: 2000\n",
            "Yes\n"
          ]
        }
      ]
    },
    {
      "cell_type": "code",
      "source": [
        "for i in range(10):\n",
        "  print(\" I want to be a great programmer.\")\n"
      ],
      "metadata": {
        "colab": {
          "base_uri": "https://localhost:8080/"
        },
        "id": "Om-5e--GA5ZB",
        "outputId": "8e195a34-9db5-4d42-b61b-030f966136af"
      },
      "execution_count": null,
      "outputs": [
        {
          "output_type": "stream",
          "name": "stdout",
          "text": [
            " I want to be a great programmer.\n",
            " I want to be a great programmer.\n",
            " I want to be a great programmer.\n",
            " I want to be a great programmer.\n",
            " I want to be a great programmer.\n",
            " I want to be a great programmer.\n",
            " I want to be a great programmer.\n",
            " I want to be a great programmer.\n",
            " I want to be a great programmer.\n",
            " I want to be a great programmer.\n"
          ]
        }
      ]
    },
    {
      "cell_type": "code",
      "source": [
        "result = 0\n",
        "for i in range(50):\n",
        "  result += 1\n",
        "\n",
        "print(result)"
      ],
      "metadata": {
        "colab": {
          "base_uri": "https://localhost:8080/"
        },
        "id": "QruXLVRrDScM",
        "outputId": "5276d7a6-b336-45b7-a2c0-7926821a5e78"
      },
      "execution_count": null,
      "outputs": [
        {
          "output_type": "stream",
          "name": "stdout",
          "text": [
            "50\n"
          ]
        }
      ]
    },
    {
      "cell_type": "code",
      "source": [
        "result = 0\n",
        "number = 1\n",
        "for i in range (50):\n",
        "  result = result + number\n",
        "  number = number + 1\n",
        "print (result)"
      ],
      "metadata": {
        "colab": {
          "base_uri": "https://localhost:8080/"
        },
        "id": "woWuEMEPDilA",
        "outputId": "91a1edcb-87ad-4254-8f69-7e7d6ad003ce"
      },
      "execution_count": null,
      "outputs": [
        {
          "output_type": "stream",
          "name": "stdout",
          "text": [
            "1275\n"
          ]
        }
      ]
    },
    {
      "cell_type": "code",
      "source": [
        "!pip3 install ColabTurtle"
      ],
      "metadata": {
        "colab": {
          "base_uri": "https://localhost:8080/"
        },
        "id": "hzHKyskdKSzC",
        "outputId": "708361f4-2cc0-4a3a-b930-01495276008b"
      },
      "execution_count": 1,
      "outputs": [
        {
          "output_type": "stream",
          "name": "stdout",
          "text": [
            "Collecting ColabTurtle\n",
            "  Downloading ColabTurtle-2.1.0.tar.gz (6.8 kB)\n",
            "  Preparing metadata (setup.py) ... \u001b[?25l\u001b[?25hdone\n",
            "Building wheels for collected packages: ColabTurtle\n",
            "  Building wheel for ColabTurtle (setup.py) ... \u001b[?25l\u001b[?25hdone\n",
            "  Created wheel for ColabTurtle: filename=ColabTurtle-2.1.0-py3-none-any.whl size=7642 sha256=0cecfe79e0eb15cefe2f16ff41639d5ec8203590b2d360730a6e9e9ead6c160e\n",
            "  Stored in directory: /root/.cache/pip/wheels/5b/86/e8/54f5c8c853606e3a3060bb2e60363cbed632374a12e0f33ffc\n",
            "Successfully built ColabTurtle\n",
            "Installing collected packages: ColabTurtle\n",
            "Successfully installed ColabTurtle-2.1.0\n"
          ]
        }
      ]
    },
    {
      "cell_type": "code",
      "source": [
        "from ColabTurtle.Turtle import *"
      ],
      "metadata": {
        "id": "7JM4_neyKooy"
      },
      "execution_count": 2,
      "outputs": []
    },
    {
      "cell_type": "code",
      "source": [
        "initializeTurtle(initial_speed=5)"
      ],
      "metadata": {
        "colab": {
          "base_uri": "https://localhost:8080/",
          "height": 521
        },
        "id": "bF4ChM5-KwWU",
        "outputId": "3babf392-4d59-4fd5-b778-f3950e4fbc42"
      },
      "execution_count": 3,
      "outputs": [
        {
          "output_type": "display_data",
          "data": {
            "text/plain": [
              "<IPython.core.display.HTML object>"
            ],
            "text/html": [
              "\n",
              "      <svg width=\"800\" height=\"500\">\n",
              "        <rect width=\"100%\" height=\"100%\" fill=\"black\"/>\n",
              "        \n",
              "        <g visibility=visible transform=\"rotate(360,400,250) translate(382, 232)\">\n",
              "<path style=\" stroke:none;fill-rule:evenodd;fill:white;fill-opacity:1;\" d=\"M 18.214844 0.632812 C 16.109375 1.800781 15.011719 4.074219 15.074219 7.132812 L 15.085938 7.652344 L 14.785156 7.496094 C 13.476562 6.824219 11.957031 6.671875 10.40625 7.066406 C 8.46875 7.550781 6.515625 9.15625 4.394531 11.992188 C 3.0625 13.777344 2.679688 14.636719 3.042969 15.027344 L 3.15625 15.152344 L 3.519531 15.152344 C 4.238281 15.152344 4.828125 14.886719 8.1875 13.039062 C 9.386719 12.378906 10.371094 11.839844 10.378906 11.839844 C 10.386719 11.839844 10.355469 11.929688 10.304688 12.035156 C 9.832031 13.09375 9.257812 14.820312 8.96875 16.078125 C 7.914062 20.652344 8.617188 24.53125 11.070312 27.660156 C 11.351562 28.015625 11.363281 27.914062 10.972656 28.382812 C 8.925781 30.84375 7.945312 33.28125 8.238281 35.1875 C 8.289062 35.527344 8.28125 35.523438 8.917969 35.523438 C 10.941406 35.523438 13.074219 34.207031 15.136719 31.6875 C 15.359375 31.417969 15.328125 31.425781 15.5625 31.574219 C 16.292969 32.042969 18.023438 32.964844 18.175781 32.964844 C 18.335938 32.964844 19.941406 32.210938 20.828125 31.71875 C 20.996094 31.625 21.136719 31.554688 21.136719 31.558594 C 21.203125 31.664062 21.898438 32.414062 22.222656 32.730469 C 23.835938 34.300781 25.5625 35.132812 27.582031 35.300781 C 27.90625 35.328125 27.9375 35.308594 28.007812 34.984375 C 28.382812 33.242188 27.625 30.925781 25.863281 28.425781 L 25.542969 27.96875 L 25.699219 27.785156 C 28.945312 23.960938 29.132812 18.699219 26.257812 11.96875 L 26.207031 11.84375 L 27.945312 12.703125 C 31.53125 14.476562 32.316406 14.800781 33.03125 14.800781 C 33.976562 14.800781 33.78125 13.9375 32.472656 12.292969 C 28.519531 7.355469 25.394531 5.925781 21.921875 7.472656 L 21.558594 7.636719 L 21.578125 7.542969 C 21.699219 6.992188 21.761719 5.742188 21.699219 5.164062 C 21.496094 3.296875 20.664062 1.964844 19.003906 0.855469 C 18.480469 0.503906 18.457031 0.5 18.214844 0.632812\"/>\n",
              "</g>\n",
              "      </svg>\n",
              "    "
            ]
          },
          "metadata": {}
        }
      ]
    },
    {
      "cell_type": "code",
      "source": [
        "forward(100)"
      ],
      "metadata": {
        "colab": {
          "base_uri": "https://localhost:8080/",
          "height": 521
        },
        "id": "U_OxzdyWLHUp",
        "outputId": "8d11f6a4-1cd7-401a-84c2-0cc61e1865fd"
      },
      "execution_count": 4,
      "outputs": [
        {
          "output_type": "display_data",
          "data": {
            "text/plain": [
              "<IPython.core.display.HTML object>"
            ],
            "text/html": [
              "\n",
              "      <svg width=\"800\" height=\"500\">\n",
              "        <rect width=\"100%\" height=\"100%\" fill=\"black\"/>\n",
              "        <line x1=\"400\" y1=\"250\" x2=\"400.0\" y2=\"150.0\" stroke-linecap=\"round\" style=\"stroke:white;stroke-width:4\"/>\n",
              "        <g visibility=visible transform=\"rotate(360,400.0,150.0) translate(382.0, 132.0)\">\n",
              "<path style=\" stroke:none;fill-rule:evenodd;fill:white;fill-opacity:1;\" d=\"M 18.214844 0.632812 C 16.109375 1.800781 15.011719 4.074219 15.074219 7.132812 L 15.085938 7.652344 L 14.785156 7.496094 C 13.476562 6.824219 11.957031 6.671875 10.40625 7.066406 C 8.46875 7.550781 6.515625 9.15625 4.394531 11.992188 C 3.0625 13.777344 2.679688 14.636719 3.042969 15.027344 L 3.15625 15.152344 L 3.519531 15.152344 C 4.238281 15.152344 4.828125 14.886719 8.1875 13.039062 C 9.386719 12.378906 10.371094 11.839844 10.378906 11.839844 C 10.386719 11.839844 10.355469 11.929688 10.304688 12.035156 C 9.832031 13.09375 9.257812 14.820312 8.96875 16.078125 C 7.914062 20.652344 8.617188 24.53125 11.070312 27.660156 C 11.351562 28.015625 11.363281 27.914062 10.972656 28.382812 C 8.925781 30.84375 7.945312 33.28125 8.238281 35.1875 C 8.289062 35.527344 8.28125 35.523438 8.917969 35.523438 C 10.941406 35.523438 13.074219 34.207031 15.136719 31.6875 C 15.359375 31.417969 15.328125 31.425781 15.5625 31.574219 C 16.292969 32.042969 18.023438 32.964844 18.175781 32.964844 C 18.335938 32.964844 19.941406 32.210938 20.828125 31.71875 C 20.996094 31.625 21.136719 31.554688 21.136719 31.558594 C 21.203125 31.664062 21.898438 32.414062 22.222656 32.730469 C 23.835938 34.300781 25.5625 35.132812 27.582031 35.300781 C 27.90625 35.328125 27.9375 35.308594 28.007812 34.984375 C 28.382812 33.242188 27.625 30.925781 25.863281 28.425781 L 25.542969 27.96875 L 25.699219 27.785156 C 28.945312 23.960938 29.132812 18.699219 26.257812 11.96875 L 26.207031 11.84375 L 27.945312 12.703125 C 31.53125 14.476562 32.316406 14.800781 33.03125 14.800781 C 33.976562 14.800781 33.78125 13.9375 32.472656 12.292969 C 28.519531 7.355469 25.394531 5.925781 21.921875 7.472656 L 21.558594 7.636719 L 21.578125 7.542969 C 21.699219 6.992188 21.761719 5.742188 21.699219 5.164062 C 21.496094 3.296875 20.664062 1.964844 19.003906 0.855469 C 18.480469 0.503906 18.457031 0.5 18.214844 0.632812\"/>\n",
              "</g>\n",
              "      </svg>\n",
              "    "
            ]
          },
          "metadata": {}
        }
      ]
    },
    {
      "cell_type": "code",
      "source": [
        "right(20)\n",
        "forward(50)"
      ],
      "metadata": {
        "colab": {
          "base_uri": "https://localhost:8080/",
          "height": 521
        },
        "id": "btYM0K59LL1E",
        "outputId": "e386b4e3-69e2-429f-b320-507412f45665"
      },
      "execution_count": 9,
      "outputs": [
        {
          "output_type": "display_data",
          "data": {
            "text/plain": [
              "<IPython.core.display.HTML object>"
            ],
            "text/html": [
              "\n",
              "      <svg width=\"800\" height=\"500\">\n",
              "        <rect width=\"100%\" height=\"100%\" fill=\"black\"/>\n",
              "        <line x1=\"400\" y1=\"250\" x2=\"400.0\" y2=\"150.0\" stroke-linecap=\"round\" style=\"stroke:white;stroke-width:4\"/><line x1=\"400.0\" y1=\"150.0\" x2=\"432.139\" y2=\"111.698\" stroke-linecap=\"round\" style=\"stroke:white;stroke-width:4\"/>\n",
              "        <g visibility=visible transform=\"rotate(400,432.139,111.698) translate(414.139, 93.698)\">\n",
              "<path style=\" stroke:none;fill-rule:evenodd;fill:white;fill-opacity:1;\" d=\"M 18.214844 0.632812 C 16.109375 1.800781 15.011719 4.074219 15.074219 7.132812 L 15.085938 7.652344 L 14.785156 7.496094 C 13.476562 6.824219 11.957031 6.671875 10.40625 7.066406 C 8.46875 7.550781 6.515625 9.15625 4.394531 11.992188 C 3.0625 13.777344 2.679688 14.636719 3.042969 15.027344 L 3.15625 15.152344 L 3.519531 15.152344 C 4.238281 15.152344 4.828125 14.886719 8.1875 13.039062 C 9.386719 12.378906 10.371094 11.839844 10.378906 11.839844 C 10.386719 11.839844 10.355469 11.929688 10.304688 12.035156 C 9.832031 13.09375 9.257812 14.820312 8.96875 16.078125 C 7.914062 20.652344 8.617188 24.53125 11.070312 27.660156 C 11.351562 28.015625 11.363281 27.914062 10.972656 28.382812 C 8.925781 30.84375 7.945312 33.28125 8.238281 35.1875 C 8.289062 35.527344 8.28125 35.523438 8.917969 35.523438 C 10.941406 35.523438 13.074219 34.207031 15.136719 31.6875 C 15.359375 31.417969 15.328125 31.425781 15.5625 31.574219 C 16.292969 32.042969 18.023438 32.964844 18.175781 32.964844 C 18.335938 32.964844 19.941406 32.210938 20.828125 31.71875 C 20.996094 31.625 21.136719 31.554688 21.136719 31.558594 C 21.203125 31.664062 21.898438 32.414062 22.222656 32.730469 C 23.835938 34.300781 25.5625 35.132812 27.582031 35.300781 C 27.90625 35.328125 27.9375 35.308594 28.007812 34.984375 C 28.382812 33.242188 27.625 30.925781 25.863281 28.425781 L 25.542969 27.96875 L 25.699219 27.785156 C 28.945312 23.960938 29.132812 18.699219 26.257812 11.96875 L 26.207031 11.84375 L 27.945312 12.703125 C 31.53125 14.476562 32.316406 14.800781 33.03125 14.800781 C 33.976562 14.800781 33.78125 13.9375 32.472656 12.292969 C 28.519531 7.355469 25.394531 5.925781 21.921875 7.472656 L 21.558594 7.636719 L 21.578125 7.542969 C 21.699219 6.992188 21.761719 5.742188 21.699219 5.164062 C 21.496094 3.296875 20.664062 1.964844 19.003906 0.855469 C 18.480469 0.503906 18.457031 0.5 18.214844 0.632812\"/>\n",
              "</g>\n",
              "      </svg>\n",
              "    "
            ]
          },
          "metadata": {}
        }
      ]
    },
    {
      "cell_type": "code",
      "source": [
        "for i in range(20):\n",
        "  forward(10)\n",
        "  penup()\n",
        "  forward(3)\n",
        "  pendown()\n"
      ],
      "metadata": {
        "colab": {
          "base_uri": "https://localhost:8080/",
          "height": 521
        },
        "id": "Y4Aj4KONMBxj",
        "outputId": "47fb18b5-6671-4a53-85c9-67df22e70186"
      },
      "execution_count": 14,
      "outputs": [
        {
          "output_type": "display_data",
          "data": {
            "text/plain": [
              "<IPython.core.display.HTML object>"
            ],
            "text/html": [
              "\n",
              "      <svg width=\"800\" height=\"500\">\n",
              "        <rect width=\"100%\" height=\"100%\" fill=\"black\"/>\n",
              "        <line x1=\"400\" y1=\"250\" x2=\"400.0\" y2=\"150.0\" stroke-linecap=\"round\" style=\"stroke:white;stroke-width:4\"/><line x1=\"400.0\" y1=\"150.0\" x2=\"432.139\" y2=\"111.698\" stroke-linecap=\"round\" style=\"stroke:white;stroke-width:4\"/><line x1=\"440.495\" y1=\"101.74\" x2=\"446.923\" y2=\"94.08\" stroke-linecap=\"round\" style=\"stroke:white;stroke-width:4\"/><line x1=\"448.851\" y1=\"91.782\" x2=\"455.279\" y2=\"84.122\" stroke-linecap=\"round\" style=\"stroke:white;stroke-width:4\"/><line x1=\"457.207\" y1=\"81.824\" x2=\"463.635\" y2=\"74.164\" stroke-linecap=\"round\" style=\"stroke:white;stroke-width:4\"/><line x1=\"465.563\" y1=\"71.866\" x2=\"471.991\" y2=\"64.206\" stroke-linecap=\"round\" style=\"stroke:white;stroke-width:4\"/><line x1=\"473.919\" y1=\"61.908\" x2=\"480.347\" y2=\"54.248\" stroke-linecap=\"round\" style=\"stroke:white;stroke-width:4\"/><line x1=\"482.275\" y1=\"51.95\" x2=\"488.703\" y2=\"44.29\" stroke-linecap=\"round\" style=\"stroke:white;stroke-width:4\"/><line x1=\"490.631\" y1=\"41.992\" x2=\"497.059\" y2=\"34.332\" stroke-linecap=\"round\" style=\"stroke:white;stroke-width:4\"/><line x1=\"498.987\" y1=\"32.034\" x2=\"505.415\" y2=\"24.374\" stroke-linecap=\"round\" style=\"stroke:white;stroke-width:4\"/><line x1=\"507.343\" y1=\"22.076\" x2=\"513.771\" y2=\"14.416\" stroke-linecap=\"round\" style=\"stroke:white;stroke-width:4\"/><line x1=\"515.699\" y1=\"12.118\" x2=\"522.127\" y2=\"4.458\" stroke-linecap=\"round\" style=\"stroke:white;stroke-width:4\"/><line x1=\"524.055\" y1=\"2.16\" x2=\"530.483\" y2=\"-5.5\" stroke-linecap=\"round\" style=\"stroke:white;stroke-width:4\"/><line x1=\"532.411\" y1=\"-7.798\" x2=\"538.839\" y2=\"-15.458\" stroke-linecap=\"round\" style=\"stroke:white;stroke-width:4\"/><line x1=\"540.767\" y1=\"-17.756\" x2=\"547.195\" y2=\"-25.416\" stroke-linecap=\"round\" style=\"stroke:white;stroke-width:4\"/><line x1=\"549.123\" y1=\"-27.714\" x2=\"555.551\" y2=\"-35.374\" stroke-linecap=\"round\" style=\"stroke:white;stroke-width:4\"/><line x1=\"557.479\" y1=\"-37.672\" x2=\"563.907\" y2=\"-45.332\" stroke-linecap=\"round\" style=\"stroke:white;stroke-width:4\"/><line x1=\"565.835\" y1=\"-47.63\" x2=\"572.263\" y2=\"-55.29\" stroke-linecap=\"round\" style=\"stroke:white;stroke-width:4\"/><line x1=\"574.191\" y1=\"-57.588\" x2=\"580.619\" y2=\"-65.248\" stroke-linecap=\"round\" style=\"stroke:white;stroke-width:4\"/><line x1=\"582.547\" y1=\"-67.546\" x2=\"588.975\" y2=\"-75.206\" stroke-linecap=\"round\" style=\"stroke:white;stroke-width:4\"/><line x1=\"590.903\" y1=\"-77.504\" x2=\"597.331\" y2=\"-85.164\" stroke-linecap=\"round\" style=\"stroke:white;stroke-width:4\"/><line x1=\"599.259\" y1=\"-87.462\" x2=\"605.687\" y2=\"-95.122\" stroke-linecap=\"round\" style=\"stroke:white;stroke-width:4\"/><line x1=\"607.615\" y1=\"-97.42\" x2=\"614.043\" y2=\"-105.08\" stroke-linecap=\"round\" style=\"stroke:white;stroke-width:4\"/><line x1=\"615.971\" y1=\"-107.378\" x2=\"622.399\" y2=\"-115.038\" stroke-linecap=\"round\" style=\"stroke:white;stroke-width:4\"/><line x1=\"624.327\" y1=\"-117.336\" x2=\"630.755\" y2=\"-124.996\" stroke-linecap=\"round\" style=\"stroke:white;stroke-width:4\"/><line x1=\"641.039\" y1=\"-137.252\" x2=\"647.467\" y2=\"-144.912\" stroke-linecap=\"round\" style=\"stroke:white;stroke-width:4\"/><line x1=\"649.395\" y1=\"-147.21\" x2=\"655.823\" y2=\"-154.87\" stroke-linecap=\"round\" style=\"stroke:white;stroke-width:4\"/><line x1=\"657.751\" y1=\"-157.168\" x2=\"664.179\" y2=\"-164.828\" stroke-linecap=\"round\" style=\"stroke:white;stroke-width:4\"/><line x1=\"666.107\" y1=\"-167.126\" x2=\"672.535\" y2=\"-174.786\" stroke-linecap=\"round\" style=\"stroke:white;stroke-width:4\"/><line x1=\"674.463\" y1=\"-177.084\" x2=\"680.891\" y2=\"-184.744\" stroke-linecap=\"round\" style=\"stroke:white;stroke-width:4\"/><line x1=\"682.819\" y1=\"-187.042\" x2=\"689.247\" y2=\"-194.702\" stroke-linecap=\"round\" style=\"stroke:white;stroke-width:4\"/><line x1=\"691.175\" y1=\"-197.0\" x2=\"697.603\" y2=\"-204.66\" stroke-linecap=\"round\" style=\"stroke:white;stroke-width:4\"/><line x1=\"699.531\" y1=\"-206.958\" x2=\"705.959\" y2=\"-214.618\" stroke-linecap=\"round\" style=\"stroke:white;stroke-width:4\"/><line x1=\"707.887\" y1=\"-216.916\" x2=\"714.315\" y2=\"-224.576\" stroke-linecap=\"round\" style=\"stroke:white;stroke-width:4\"/><line x1=\"716.243\" y1=\"-226.874\" x2=\"722.671\" y2=\"-234.534\" stroke-linecap=\"round\" style=\"stroke:white;stroke-width:4\"/><line x1=\"724.599\" y1=\"-236.832\" x2=\"731.027\" y2=\"-244.492\" stroke-linecap=\"round\" style=\"stroke:white;stroke-width:4\"/><line x1=\"732.955\" y1=\"-246.79\" x2=\"739.383\" y2=\"-254.45\" stroke-linecap=\"round\" style=\"stroke:white;stroke-width:4\"/><line x1=\"741.311\" y1=\"-256.748\" x2=\"747.739\" y2=\"-264.408\" stroke-linecap=\"round\" style=\"stroke:white;stroke-width:4\"/><line x1=\"749.667\" y1=\"-266.706\" x2=\"756.095\" y2=\"-274.366\" stroke-linecap=\"round\" style=\"stroke:white;stroke-width:4\"/><line x1=\"758.023\" y1=\"-276.664\" x2=\"764.451\" y2=\"-284.324\" stroke-linecap=\"round\" style=\"stroke:white;stroke-width:4\"/><line x1=\"766.379\" y1=\"-286.622\" x2=\"772.807\" y2=\"-294.282\" stroke-linecap=\"round\" style=\"stroke:white;stroke-width:4\"/><line x1=\"774.735\" y1=\"-296.58\" x2=\"781.163\" y2=\"-304.24\" stroke-linecap=\"round\" style=\"stroke:white;stroke-width:4\"/><line x1=\"783.091\" y1=\"-306.538\" x2=\"789.519\" y2=\"-314.198\" stroke-linecap=\"round\" style=\"stroke:white;stroke-width:4\"/><line x1=\"791.447\" y1=\"-316.496\" x2=\"797.875\" y2=\"-324.156\" stroke-linecap=\"round\" style=\"stroke:white;stroke-width:4\"/>\n",
              "        <g visibility=visible transform=\"rotate(400,799.803,-326.454) translate(781.803, -344.454)\">\n",
              "<path style=\" stroke:none;fill-rule:evenodd;fill:white;fill-opacity:1;\" d=\"M 18.214844 0.632812 C 16.109375 1.800781 15.011719 4.074219 15.074219 7.132812 L 15.085938 7.652344 L 14.785156 7.496094 C 13.476562 6.824219 11.957031 6.671875 10.40625 7.066406 C 8.46875 7.550781 6.515625 9.15625 4.394531 11.992188 C 3.0625 13.777344 2.679688 14.636719 3.042969 15.027344 L 3.15625 15.152344 L 3.519531 15.152344 C 4.238281 15.152344 4.828125 14.886719 8.1875 13.039062 C 9.386719 12.378906 10.371094 11.839844 10.378906 11.839844 C 10.386719 11.839844 10.355469 11.929688 10.304688 12.035156 C 9.832031 13.09375 9.257812 14.820312 8.96875 16.078125 C 7.914062 20.652344 8.617188 24.53125 11.070312 27.660156 C 11.351562 28.015625 11.363281 27.914062 10.972656 28.382812 C 8.925781 30.84375 7.945312 33.28125 8.238281 35.1875 C 8.289062 35.527344 8.28125 35.523438 8.917969 35.523438 C 10.941406 35.523438 13.074219 34.207031 15.136719 31.6875 C 15.359375 31.417969 15.328125 31.425781 15.5625 31.574219 C 16.292969 32.042969 18.023438 32.964844 18.175781 32.964844 C 18.335938 32.964844 19.941406 32.210938 20.828125 31.71875 C 20.996094 31.625 21.136719 31.554688 21.136719 31.558594 C 21.203125 31.664062 21.898438 32.414062 22.222656 32.730469 C 23.835938 34.300781 25.5625 35.132812 27.582031 35.300781 C 27.90625 35.328125 27.9375 35.308594 28.007812 34.984375 C 28.382812 33.242188 27.625 30.925781 25.863281 28.425781 L 25.542969 27.96875 L 25.699219 27.785156 C 28.945312 23.960938 29.132812 18.699219 26.257812 11.96875 L 26.207031 11.84375 L 27.945312 12.703125 C 31.53125 14.476562 32.316406 14.800781 33.03125 14.800781 C 33.976562 14.800781 33.78125 13.9375 32.472656 12.292969 C 28.519531 7.355469 25.394531 5.925781 21.921875 7.472656 L 21.558594 7.636719 L 21.578125 7.542969 C 21.699219 6.992188 21.761719 5.742188 21.699219 5.164062 C 21.496094 3.296875 20.664062 1.964844 19.003906 0.855469 C 18.480469 0.503906 18.457031 0.5 18.214844 0.632812\"/>\n",
              "</g>\n",
              "      </svg>\n",
              "    "
            ]
          },
          "metadata": {}
        }
      ]
    },
    {
      "cell_type": "code",
      "source": [
        "li = list(range(2, 21, 3))\n",
        "print(li)"
      ],
      "metadata": {
        "colab": {
          "base_uri": "https://localhost:8080/"
        },
        "id": "yIQG_vtyNSBY",
        "outputId": "88aff0ff-6be0-4e73-a956-5f2e0f487e5d"
      },
      "execution_count": 17,
      "outputs": [
        {
          "output_type": "stream",
          "name": "stdout",
          "text": [
            "[2, 5, 8, 11, 14, 17, 20]\n"
          ]
        }
      ]
    },
    {
      "cell_type": "code",
      "source": [
        "n = input(\"Enter a positive integer\")\n",
        "n = int(n)\n",
        "m=1\n",
        "while m<=10:\n",
        "  print(n, \"x\", m, \"=\", n*m)\n",
        "  m+=1"
      ],
      "metadata": {
        "colab": {
          "base_uri": "https://localhost:8080/"
        },
        "id": "MQYtx3KEOD7b",
        "outputId": "5e179cac-1b64-46bd-f1b7-263cb91cd05c"
      },
      "execution_count": 19,
      "outputs": [
        {
          "output_type": "stream",
          "name": "stdout",
          "text": [
            "Enter a positive integer10\n",
            "10 x 1 = 10\n",
            "10 x 2 = 20\n",
            "10 x 3 = 30\n",
            "10 x 4 = 40\n",
            "10 x 5 = 50\n",
            "10 x 6 = 60\n",
            "10 x 7 = 70\n",
            "10 x 8 = 80\n",
            "10 x 9 = 90\n",
            "10 x 10 = 100\n"
          ]
        }
      ]
    },
    {
      "cell_type": "code",
      "source": [
        "while True:\n",
        "  n = int(input(\"Please enter a number (0 to exit): \"))\n",
        "  if n == 0:\n",
        "    break\n",
        "  print(\"Square of\", n, \"is\", n*n)\n",
        "\n"
      ],
      "metadata": {
        "colab": {
          "base_uri": "https://localhost:8080/"
        },
        "id": "NZ_syZPhO69j",
        "outputId": "9a7fe6e4-c92b-4bc2-d2c0-780c6c317bf4"
      },
      "execution_count": 23,
      "outputs": [
        {
          "name": "stdout",
          "output_type": "stream",
          "text": [
            "Please enter a number (0 to exit): 2\n",
            "Square of 2 is 4\n",
            "Please enter a number (0 to exit): 10\n",
            "Square of 10 is 100\n",
            "Please enter a number (0 to exit): 0\n"
          ]
        }
      ]
    },
    {
      "cell_type": "code",
      "source": [
        "terminate = False\n",
        "while not terminate:\n",
        "  number1 = int(input(\"Enter first number: \"))\n",
        "  number2 = int(input(\"Enter second number: \"))\n",
        "\n",
        "  while True:\n",
        "    operation = input(\"PLease enter add/sub or quit to ext:\")\n",
        "    if operation == \"quit\":\n",
        "      terminate = True\n",
        "      break\n",
        "    if operation not in [\"add\", \"sub\"]:\n",
        "      print(\"Unknown operation!\")\n",
        "      continue\n",
        "    if operation == \"add\":\n",
        "      print(\"Result is\", number1+number2)\n",
        "    if operation == \"sub\":\n",
        "      print(\"Result is\", number1-number2)\n",
        "      break"
      ],
      "metadata": {
        "colab": {
          "base_uri": "https://localhost:8080/"
        },
        "id": "59eMS9AFTQFq",
        "outputId": "9960835f-c5a6-4c70-e957-a3e84da21641"
      },
      "execution_count": 24,
      "outputs": [
        {
          "name": "stdout",
          "output_type": "stream",
          "text": [
            "Enter first number: 46\n",
            "Enter second number: 36\n",
            "PLease enter add/sub or quit to ext:add\n",
            "Result is 82\n",
            "PLease enter add/sub or quit to ext:quit\n"
          ]
        }
      ]
    }
  ]
}