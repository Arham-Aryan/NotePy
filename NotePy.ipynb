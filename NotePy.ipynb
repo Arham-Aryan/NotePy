{
  "nbformat": 4,
  "nbformat_minor": 0,
  "metadata": {
    "colab": {
      "provenance": [],
      "authorship_tag": "ABX9TyMX4mYQIpMwmooQagFwU6M8",
      "include_colab_link": true
    },
    "kernelspec": {
      "name": "python3",
      "display_name": "Python 3"
    },
    "language_info": {
      "name": "python"
    }
  },
  "cells": [
    {
      "cell_type": "markdown",
      "metadata": {
        "id": "view-in-github",
        "colab_type": "text"
      },
      "source": [
        "<a href=\"https://colab.research.google.com/github/Arham-Aryan/NotePy/blob/main/NotePy.ipynb\" target=\"_parent\"><img src=\"https://colab.research.google.com/assets/colab-badge.svg\" alt=\"Open In Colab\"/></a>"
      ]
    },
    {
      "cell_type": "code",
      "execution_count": null,
      "metadata": {
        "colab": {
          "base_uri": "https://localhost:8080/"
        },
        "id": "aGE8nb1Hge4p",
        "outputId": "f0e5abcc-f686-4733-d0ef-fb9b4dd4ed04"
      },
      "outputs": [
        {
          "output_type": "stream",
          "name": "stdout",
          "text": [
            "This is Arham\n"
          ]
        }
      ],
      "source": [
        "print(\"This is Arham\")"
      ]
    },
    {
      "cell_type": "code",
      "source": [
        "text = \"Hello Guys\"\n",
        "print (text)"
      ],
      "metadata": {
        "colab": {
          "base_uri": "https://localhost:8080/"
        },
        "id": "jUAS9S4dhb26",
        "outputId": "fae33f88-0055-4857-947f-d2097e645904"
      },
      "execution_count": null,
      "outputs": [
        {
          "output_type": "stream",
          "name": "stdout",
          "text": [
            "Hello Guys\n"
          ]
        }
      ]
    },
    {
      "cell_type": "code",
      "source": [
        "number1 = 10\n",
        "number2 = 5\n",
        "\n",
        "result = number1 + number2\n",
        "print (result)"
      ],
      "metadata": {
        "colab": {
          "base_uri": "https://localhost:8080/"
        },
        "id": "_A5smkyzhodW",
        "outputId": "2f4c0b88-0e68-4e90-a251-21221dd69f74"
      },
      "execution_count": null,
      "outputs": [
        {
          "output_type": "stream",
          "name": "stdout",
          "text": [
            "15\n"
          ]
        }
      ]
    },
    {
      "cell_type": "code",
      "source": [
        "number1 = input (\"Pleased type an integer and press enter: \")\n",
        "number2 = input (\"Type another integer and press enter:  \")\n",
        "number1 = int(number1)\n",
        "number2 = int(number2)\n",
        "print (\"number1+number2 = \",number1+number2)"
      ],
      "metadata": {
        "id": "qd-lV99SiC4T",
        "colab": {
          "base_uri": "https://localhost:8080/"
        },
        "outputId": "b5b3fddc-34da-4dda-fb04-dbec52cb2d2a"
      },
      "execution_count": null,
      "outputs": [
        {
          "output_type": "stream",
          "name": "stdout",
          "text": [
            "Pleased type an integer and press enter: 4\n",
            "Type another integer and press enter:  9\n",
            "number1+number2 =  13\n"
          ]
        }
      ]
    },
    {
      "cell_type": "code",
      "source": [
        "Murphy = 40\n",
        "Nolan = 30\n",
        "Murphy >= Nolan"
      ],
      "metadata": {
        "colab": {
          "base_uri": "https://localhost:8080/"
        },
        "id": "KvlsHxlu_FUe",
        "outputId": "63e3a77f-8dc0-4858-fa4e-613ed3983376"
      },
      "execution_count": null,
      "outputs": [
        {
          "output_type": "execute_result",
          "data": {
            "text/plain": [
              "True"
            ]
          },
          "metadata": {},
          "execution_count": 8
        }
      ]
    },
    {
      "cell_type": "code",
      "source": [
        "today = \"Wednesday\"\n",
        "not (today == \"Wednesday\")\n"
      ],
      "metadata": {
        "colab": {
          "base_uri": "https://localhost:8080/"
        },
        "id": "zqOs3ZSu_9mw",
        "outputId": "6c307399-c25d-44b7-f6ad-13f50fd90dc1"
      },
      "execution_count": null,
      "outputs": [
        {
          "output_type": "execute_result",
          "data": {
            "text/plain": [
              "False"
            ]
          },
          "metadata": {},
          "execution_count": 13
        }
      ]
    },
    {
      "cell_type": "code",
      "source": [
        "number = 20\n",
        "number>10 or number>100"
      ],
      "metadata": {
        "colab": {
          "base_uri": "https://localhost:8080/"
        },
        "id": "HnnX2sjhAuqu",
        "outputId": "b1006e8b-c6aa-49f6-b59c-9aec79401665"
      },
      "execution_count": null,
      "outputs": [
        {
          "output_type": "execute_result",
          "data": {
            "text/plain": [
              "True"
            ]
          },
          "metadata": {},
          "execution_count": 16
        }
      ]
    },
    {
      "cell_type": "code",
      "source": [
        "saarc = [\"Bangladesh\",\"Pakistan\",\"Sri Lanka\", \"Nepal\", \"Bhutan\"]\n",
        "print(saarc)\n",
        "print(saarc[0])"
      ],
      "metadata": {
        "colab": {
          "base_uri": "https://localhost:8080/"
        },
        "id": "Hi8Bff--C572",
        "outputId": "0472bc6e-17a6-44ae-e394-32200ed69d7c"
      },
      "execution_count": null,
      "outputs": [
        {
          "output_type": "stream",
          "name": "stdout",
          "text": [
            "['Bangladesh', 'Pakistan', 'Sri Lanka', 'Nepal', 'Bhutan']\n",
            "Bangladesh\n"
          ]
        }
      ]
    },
    {
      "cell_type": "code",
      "source": [
        "print(\"Number of countries in saarc: \",len(saarc))"
      ],
      "metadata": {
        "colab": {
          "base_uri": "https://localhost:8080/"
        },
        "id": "aJ0kzHeHDlB1",
        "outputId": "b7a25cb4-0826-42b2-98b6-948bf6fd7bf3"
      },
      "execution_count": null,
      "outputs": [
        {
          "output_type": "stream",
          "name": "stdout",
          "text": [
            "Number of countries in saarc:  5\n"
          ]
        }
      ]
    },
    {
      "cell_type": "code",
      "source": [
        "\"China\" in saarc"
      ],
      "metadata": {
        "colab": {
          "base_uri": "https://localhost:8080/"
        },
        "id": "SeiGqtN3DzlG",
        "outputId": "8c3002e1-7bff-4bc0-84c2-0ecf95ada71d"
      },
      "execution_count": null,
      "outputs": [
        {
          "output_type": "execute_result",
          "data": {
            "text/plain": [
              "False"
            ]
          },
          "metadata": {},
          "execution_count": 22
        }
      ]
    },
    {
      "cell_type": "code",
      "source": [
        "country = input(\"Enter name of the country: \")\n",
        "if country in saarc:\n",
        "  print(country, \"is a member of saarc\")\n",
        "\n",
        "else:\n",
        "  print(country, \"not a member of saaec\")\n",
        "\n",
        "print(\"Program terminated\")"
      ],
      "metadata": {
        "colab": {
          "base_uri": "https://localhost:8080/"
        },
        "id": "Zf9dzF9AD6U5",
        "outputId": "086339c4-aa80-4400-8dc8-178159d5c6a1"
      },
      "execution_count": null,
      "outputs": [
        {
          "output_type": "stream",
          "name": "stdout",
          "text": [
            "Enter name of the country: Vietnam\n",
            "Vietnam not a member of saaec\n",
            "Program terminated\n"
          ]
        }
      ]
    },
    {
      "cell_type": "code",
      "source": [
        "marks = input(\"Please enter your marks: \")\n",
        "marks = int(marks)\n",
        "\n",
        "if marks>=80:\n",
        "  grade = \"A+\"\n",
        "elif marks>=70:\n",
        "  grade = \"A\"\n",
        "elif marks>=60:\n",
        "  grade = \"B\"\n",
        "else:\n",
        "  grade = \"F\"\n",
        "\n",
        "print(\"Your obtained grade is : \",grade)"
      ],
      "metadata": {
        "colab": {
          "base_uri": "https://localhost:8080/"
        },
        "id": "RBe7pDfeFFAG",
        "outputId": "2a2985b9-af85-48ae-8c5a-dae39038313d"
      },
      "execution_count": null,
      "outputs": [
        {
          "output_type": "stream",
          "name": "stdout",
          "text": [
            "Please enter your marks: 77\n",
            "Your obtained grade is :  A\n"
          ]
        }
      ]
    },
    {
      "cell_type": "code",
      "source": [
        "a=30\n",
        "b=20\n",
        "c=25\n",
        "if a>b:\n",
        "  max_number = a\n",
        "else:\n",
        "  max_number = b\n",
        "max_number"
      ],
      "metadata": {
        "colab": {
          "base_uri": "https://localhost:8080/"
        },
        "id": "CViTiu-K99fb",
        "outputId": "6cf9fb76-0d41-47f6-ba2c-adf2715d1fb0"
      },
      "execution_count": null,
      "outputs": [
        {
          "output_type": "execute_result",
          "data": {
            "text/plain": [
              "30"
            ]
          },
          "metadata": {},
          "execution_count": 5
        }
      ]
    },
    {
      "cell_type": "code",
      "source": [
        "if c>max_number:\n",
        "  max_number = c\n",
        "max_number"
      ],
      "metadata": {
        "colab": {
          "base_uri": "https://localhost:8080/"
        },
        "id": "5jIP5epf_oAr",
        "outputId": "04263d25-4191-4793-b77e-39d9e94e71cd"
      },
      "execution_count": null,
      "outputs": [
        {
          "output_type": "execute_result",
          "data": {
            "text/plain": [
              "30"
            ]
          },
          "metadata": {},
          "execution_count": 6
        }
      ]
    },
    {
      "cell_type": "code",
      "source": [
        "year = int(input(\"Enter the year: \"))\n",
        "if year % 4 == 0:\n",
        "    if year % 100 == 0:\n",
        "        if year % 400 == 0:\n",
        "            print(\"Yes\")\n",
        "        else:\n",
        "            print(\"No\")\n",
        "    else:\n",
        "        print(\"Yes\")\n",
        "else:\n",
        "    print(\"No\")\n"
      ],
      "metadata": {
        "colab": {
          "base_uri": "https://localhost:8080/"
        },
        "id": "3fJDW7-x_3uz",
        "outputId": "70814d65-2fc2-463c-e976-c84157fe9782"
      },
      "execution_count": null,
      "outputs": [
        {
          "output_type": "stream",
          "name": "stdout",
          "text": [
            "Enter the year: 2000\n",
            "Yes\n"
          ]
        }
      ]
    },
    {
      "cell_type": "code",
      "source": [
        "for i in range(10):\n",
        "  print(\" I want to be a great programmer.\")\n"
      ],
      "metadata": {
        "colab": {
          "base_uri": "https://localhost:8080/"
        },
        "id": "Om-5e--GA5ZB",
        "outputId": "8e195a34-9db5-4d42-b61b-030f966136af"
      },
      "execution_count": null,
      "outputs": [
        {
          "output_type": "stream",
          "name": "stdout",
          "text": [
            " I want to be a great programmer.\n",
            " I want to be a great programmer.\n",
            " I want to be a great programmer.\n",
            " I want to be a great programmer.\n",
            " I want to be a great programmer.\n",
            " I want to be a great programmer.\n",
            " I want to be a great programmer.\n",
            " I want to be a great programmer.\n",
            " I want to be a great programmer.\n",
            " I want to be a great programmer.\n"
          ]
        }
      ]
    },
    {
      "cell_type": "code",
      "source": [
        "result = 0\n",
        "for i in range(50):\n",
        "  result += 1\n",
        "\n",
        "print(result)"
      ],
      "metadata": {
        "colab": {
          "base_uri": "https://localhost:8080/"
        },
        "id": "QruXLVRrDScM",
        "outputId": "5276d7a6-b336-45b7-a2c0-7926821a5e78"
      },
      "execution_count": null,
      "outputs": [
        {
          "output_type": "stream",
          "name": "stdout",
          "text": [
            "50\n"
          ]
        }
      ]
    },
    {
      "cell_type": "code",
      "source": [
        "result = 0\n",
        "number = 1\n",
        "for i in range (50):\n",
        "  result = result + number\n",
        "  number = number + 1\n",
        "print (result)"
      ],
      "metadata": {
        "colab": {
          "base_uri": "https://localhost:8080/"
        },
        "id": "woWuEMEPDilA",
        "outputId": "91a1edcb-87ad-4254-8f69-7e7d6ad003ce"
      },
      "execution_count": null,
      "outputs": [
        {
          "output_type": "stream",
          "name": "stdout",
          "text": [
            "1275\n"
          ]
        }
      ]
    },
    {
      "cell_type": "code",
      "source": [
        "!pip3 install ColabTurtle"
      ],
      "metadata": {
        "colab": {
          "base_uri": "https://localhost:8080/"
        },
        "id": "hzHKyskdKSzC",
        "outputId": "708361f4-2cc0-4a3a-b930-01495276008b"
      },
      "execution_count": null,
      "outputs": [
        {
          "output_type": "stream",
          "name": "stdout",
          "text": [
            "Collecting ColabTurtle\n",
            "  Downloading ColabTurtle-2.1.0.tar.gz (6.8 kB)\n",
            "  Preparing metadata (setup.py) ... \u001b[?25l\u001b[?25hdone\n",
            "Building wheels for collected packages: ColabTurtle\n",
            "  Building wheel for ColabTurtle (setup.py) ... \u001b[?25l\u001b[?25hdone\n",
            "  Created wheel for ColabTurtle: filename=ColabTurtle-2.1.0-py3-none-any.whl size=7642 sha256=0cecfe79e0eb15cefe2f16ff41639d5ec8203590b2d360730a6e9e9ead6c160e\n",
            "  Stored in directory: /root/.cache/pip/wheels/5b/86/e8/54f5c8c853606e3a3060bb2e60363cbed632374a12e0f33ffc\n",
            "Successfully built ColabTurtle\n",
            "Installing collected packages: ColabTurtle\n",
            "Successfully installed ColabTurtle-2.1.0\n"
          ]
        }
      ]
    },
    {
      "cell_type": "code",
      "source": [
        "from ColabTurtle.Turtle import *"
      ],
      "metadata": {
        "id": "7JM4_neyKooy"
      },
      "execution_count": null,
      "outputs": []
    },
    {
      "cell_type": "code",
      "source": [
        "initializeTurtle(initial_speed=5)"
      ],
      "metadata": {
        "colab": {
          "base_uri": "https://localhost:8080/",
          "height": 521
        },
        "id": "bF4ChM5-KwWU",
        "outputId": "3babf392-4d59-4fd5-b778-f3950e4fbc42"
      },
      "execution_count": null,
      "outputs": [
        {
          "output_type": "display_data",
          "data": {
            "text/plain": [
              "<IPython.core.display.HTML object>"
            ],
            "text/html": [
              "\n",
              "      <svg width=\"800\" height=\"500\">\n",
              "        <rect width=\"100%\" height=\"100%\" fill=\"black\"/>\n",
              "        \n",
              "        <g visibility=visible transform=\"rotate(360,400,250) translate(382, 232)\">\n",
              "<path style=\" stroke:none;fill-rule:evenodd;fill:white;fill-opacity:1;\" d=\"M 18.214844 0.632812 C 16.109375 1.800781 15.011719 4.074219 15.074219 7.132812 L 15.085938 7.652344 L 14.785156 7.496094 C 13.476562 6.824219 11.957031 6.671875 10.40625 7.066406 C 8.46875 7.550781 6.515625 9.15625 4.394531 11.992188 C 3.0625 13.777344 2.679688 14.636719 3.042969 15.027344 L 3.15625 15.152344 L 3.519531 15.152344 C 4.238281 15.152344 4.828125 14.886719 8.1875 13.039062 C 9.386719 12.378906 10.371094 11.839844 10.378906 11.839844 C 10.386719 11.839844 10.355469 11.929688 10.304688 12.035156 C 9.832031 13.09375 9.257812 14.820312 8.96875 16.078125 C 7.914062 20.652344 8.617188 24.53125 11.070312 27.660156 C 11.351562 28.015625 11.363281 27.914062 10.972656 28.382812 C 8.925781 30.84375 7.945312 33.28125 8.238281 35.1875 C 8.289062 35.527344 8.28125 35.523438 8.917969 35.523438 C 10.941406 35.523438 13.074219 34.207031 15.136719 31.6875 C 15.359375 31.417969 15.328125 31.425781 15.5625 31.574219 C 16.292969 32.042969 18.023438 32.964844 18.175781 32.964844 C 18.335938 32.964844 19.941406 32.210938 20.828125 31.71875 C 20.996094 31.625 21.136719 31.554688 21.136719 31.558594 C 21.203125 31.664062 21.898438 32.414062 22.222656 32.730469 C 23.835938 34.300781 25.5625 35.132812 27.582031 35.300781 C 27.90625 35.328125 27.9375 35.308594 28.007812 34.984375 C 28.382812 33.242188 27.625 30.925781 25.863281 28.425781 L 25.542969 27.96875 L 25.699219 27.785156 C 28.945312 23.960938 29.132812 18.699219 26.257812 11.96875 L 26.207031 11.84375 L 27.945312 12.703125 C 31.53125 14.476562 32.316406 14.800781 33.03125 14.800781 C 33.976562 14.800781 33.78125 13.9375 32.472656 12.292969 C 28.519531 7.355469 25.394531 5.925781 21.921875 7.472656 L 21.558594 7.636719 L 21.578125 7.542969 C 21.699219 6.992188 21.761719 5.742188 21.699219 5.164062 C 21.496094 3.296875 20.664062 1.964844 19.003906 0.855469 C 18.480469 0.503906 18.457031 0.5 18.214844 0.632812\"/>\n",
              "</g>\n",
              "      </svg>\n",
              "    "
            ]
          },
          "metadata": {}
        }
      ]
    },
    {
      "cell_type": "code",
      "source": [
        "forward(100)"
      ],
      "metadata": {
        "colab": {
          "base_uri": "https://localhost:8080/",
          "height": 521
        },
        "id": "U_OxzdyWLHUp",
        "outputId": "8d11f6a4-1cd7-401a-84c2-0cc61e1865fd"
      },
      "execution_count": null,
      "outputs": [
        {
          "output_type": "display_data",
          "data": {
            "text/plain": [
              "<IPython.core.display.HTML object>"
            ],
            "text/html": [
              "\n",
              "      <svg width=\"800\" height=\"500\">\n",
              "        <rect width=\"100%\" height=\"100%\" fill=\"black\"/>\n",
              "        <line x1=\"400\" y1=\"250\" x2=\"400.0\" y2=\"150.0\" stroke-linecap=\"round\" style=\"stroke:white;stroke-width:4\"/>\n",
              "        <g visibility=visible transform=\"rotate(360,400.0,150.0) translate(382.0, 132.0)\">\n",
              "<path style=\" stroke:none;fill-rule:evenodd;fill:white;fill-opacity:1;\" d=\"M 18.214844 0.632812 C 16.109375 1.800781 15.011719 4.074219 15.074219 7.132812 L 15.085938 7.652344 L 14.785156 7.496094 C 13.476562 6.824219 11.957031 6.671875 10.40625 7.066406 C 8.46875 7.550781 6.515625 9.15625 4.394531 11.992188 C 3.0625 13.777344 2.679688 14.636719 3.042969 15.027344 L 3.15625 15.152344 L 3.519531 15.152344 C 4.238281 15.152344 4.828125 14.886719 8.1875 13.039062 C 9.386719 12.378906 10.371094 11.839844 10.378906 11.839844 C 10.386719 11.839844 10.355469 11.929688 10.304688 12.035156 C 9.832031 13.09375 9.257812 14.820312 8.96875 16.078125 C 7.914062 20.652344 8.617188 24.53125 11.070312 27.660156 C 11.351562 28.015625 11.363281 27.914062 10.972656 28.382812 C 8.925781 30.84375 7.945312 33.28125 8.238281 35.1875 C 8.289062 35.527344 8.28125 35.523438 8.917969 35.523438 C 10.941406 35.523438 13.074219 34.207031 15.136719 31.6875 C 15.359375 31.417969 15.328125 31.425781 15.5625 31.574219 C 16.292969 32.042969 18.023438 32.964844 18.175781 32.964844 C 18.335938 32.964844 19.941406 32.210938 20.828125 31.71875 C 20.996094 31.625 21.136719 31.554688 21.136719 31.558594 C 21.203125 31.664062 21.898438 32.414062 22.222656 32.730469 C 23.835938 34.300781 25.5625 35.132812 27.582031 35.300781 C 27.90625 35.328125 27.9375 35.308594 28.007812 34.984375 C 28.382812 33.242188 27.625 30.925781 25.863281 28.425781 L 25.542969 27.96875 L 25.699219 27.785156 C 28.945312 23.960938 29.132812 18.699219 26.257812 11.96875 L 26.207031 11.84375 L 27.945312 12.703125 C 31.53125 14.476562 32.316406 14.800781 33.03125 14.800781 C 33.976562 14.800781 33.78125 13.9375 32.472656 12.292969 C 28.519531 7.355469 25.394531 5.925781 21.921875 7.472656 L 21.558594 7.636719 L 21.578125 7.542969 C 21.699219 6.992188 21.761719 5.742188 21.699219 5.164062 C 21.496094 3.296875 20.664062 1.964844 19.003906 0.855469 C 18.480469 0.503906 18.457031 0.5 18.214844 0.632812\"/>\n",
              "</g>\n",
              "      </svg>\n",
              "    "
            ]
          },
          "metadata": {}
        }
      ]
    },
    {
      "cell_type": "code",
      "source": [
        "right(20)\n",
        "forward(50)"
      ],
      "metadata": {
        "colab": {
          "base_uri": "https://localhost:8080/",
          "height": 521
        },
        "id": "btYM0K59LL1E",
        "outputId": "e386b4e3-69e2-429f-b320-507412f45665"
      },
      "execution_count": null,
      "outputs": [
        {
          "output_type": "display_data",
          "data": {
            "text/plain": [
              "<IPython.core.display.HTML object>"
            ],
            "text/html": [
              "\n",
              "      <svg width=\"800\" height=\"500\">\n",
              "        <rect width=\"100%\" height=\"100%\" fill=\"black\"/>\n",
              "        <line x1=\"400\" y1=\"250\" x2=\"400.0\" y2=\"150.0\" stroke-linecap=\"round\" style=\"stroke:white;stroke-width:4\"/><line x1=\"400.0\" y1=\"150.0\" x2=\"432.139\" y2=\"111.698\" stroke-linecap=\"round\" style=\"stroke:white;stroke-width:4\"/>\n",
              "        <g visibility=visible transform=\"rotate(400,432.139,111.698) translate(414.139, 93.698)\">\n",
              "<path style=\" stroke:none;fill-rule:evenodd;fill:white;fill-opacity:1;\" d=\"M 18.214844 0.632812 C 16.109375 1.800781 15.011719 4.074219 15.074219 7.132812 L 15.085938 7.652344 L 14.785156 7.496094 C 13.476562 6.824219 11.957031 6.671875 10.40625 7.066406 C 8.46875 7.550781 6.515625 9.15625 4.394531 11.992188 C 3.0625 13.777344 2.679688 14.636719 3.042969 15.027344 L 3.15625 15.152344 L 3.519531 15.152344 C 4.238281 15.152344 4.828125 14.886719 8.1875 13.039062 C 9.386719 12.378906 10.371094 11.839844 10.378906 11.839844 C 10.386719 11.839844 10.355469 11.929688 10.304688 12.035156 C 9.832031 13.09375 9.257812 14.820312 8.96875 16.078125 C 7.914062 20.652344 8.617188 24.53125 11.070312 27.660156 C 11.351562 28.015625 11.363281 27.914062 10.972656 28.382812 C 8.925781 30.84375 7.945312 33.28125 8.238281 35.1875 C 8.289062 35.527344 8.28125 35.523438 8.917969 35.523438 C 10.941406 35.523438 13.074219 34.207031 15.136719 31.6875 C 15.359375 31.417969 15.328125 31.425781 15.5625 31.574219 C 16.292969 32.042969 18.023438 32.964844 18.175781 32.964844 C 18.335938 32.964844 19.941406 32.210938 20.828125 31.71875 C 20.996094 31.625 21.136719 31.554688 21.136719 31.558594 C 21.203125 31.664062 21.898438 32.414062 22.222656 32.730469 C 23.835938 34.300781 25.5625 35.132812 27.582031 35.300781 C 27.90625 35.328125 27.9375 35.308594 28.007812 34.984375 C 28.382812 33.242188 27.625 30.925781 25.863281 28.425781 L 25.542969 27.96875 L 25.699219 27.785156 C 28.945312 23.960938 29.132812 18.699219 26.257812 11.96875 L 26.207031 11.84375 L 27.945312 12.703125 C 31.53125 14.476562 32.316406 14.800781 33.03125 14.800781 C 33.976562 14.800781 33.78125 13.9375 32.472656 12.292969 C 28.519531 7.355469 25.394531 5.925781 21.921875 7.472656 L 21.558594 7.636719 L 21.578125 7.542969 C 21.699219 6.992188 21.761719 5.742188 21.699219 5.164062 C 21.496094 3.296875 20.664062 1.964844 19.003906 0.855469 C 18.480469 0.503906 18.457031 0.5 18.214844 0.632812\"/>\n",
              "</g>\n",
              "      </svg>\n",
              "    "
            ]
          },
          "metadata": {}
        }
      ]
    },
    {
      "cell_type": "code",
      "source": [
        "for i in range(20):\n",
        "  forward(10)\n",
        "  penup()\n",
        "  forward(3)\n",
        "  pendown()\n"
      ],
      "metadata": {
        "colab": {
          "base_uri": "https://localhost:8080/",
          "height": 521
        },
        "id": "Y4Aj4KONMBxj",
        "outputId": "47fb18b5-6671-4a53-85c9-67df22e70186"
      },
      "execution_count": null,
      "outputs": [
        {
          "output_type": "display_data",
          "data": {
            "text/plain": [
              "<IPython.core.display.HTML object>"
            ],
            "text/html": [
              "\n",
              "      <svg width=\"800\" height=\"500\">\n",
              "        <rect width=\"100%\" height=\"100%\" fill=\"black\"/>\n",
              "        <line x1=\"400\" y1=\"250\" x2=\"400.0\" y2=\"150.0\" stroke-linecap=\"round\" style=\"stroke:white;stroke-width:4\"/><line x1=\"400.0\" y1=\"150.0\" x2=\"432.139\" y2=\"111.698\" stroke-linecap=\"round\" style=\"stroke:white;stroke-width:4\"/><line x1=\"440.495\" y1=\"101.74\" x2=\"446.923\" y2=\"94.08\" stroke-linecap=\"round\" style=\"stroke:white;stroke-width:4\"/><line x1=\"448.851\" y1=\"91.782\" x2=\"455.279\" y2=\"84.122\" stroke-linecap=\"round\" style=\"stroke:white;stroke-width:4\"/><line x1=\"457.207\" y1=\"81.824\" x2=\"463.635\" y2=\"74.164\" stroke-linecap=\"round\" style=\"stroke:white;stroke-width:4\"/><line x1=\"465.563\" y1=\"71.866\" x2=\"471.991\" y2=\"64.206\" stroke-linecap=\"round\" style=\"stroke:white;stroke-width:4\"/><line x1=\"473.919\" y1=\"61.908\" x2=\"480.347\" y2=\"54.248\" stroke-linecap=\"round\" style=\"stroke:white;stroke-width:4\"/><line x1=\"482.275\" y1=\"51.95\" x2=\"488.703\" y2=\"44.29\" stroke-linecap=\"round\" style=\"stroke:white;stroke-width:4\"/><line x1=\"490.631\" y1=\"41.992\" x2=\"497.059\" y2=\"34.332\" stroke-linecap=\"round\" style=\"stroke:white;stroke-width:4\"/><line x1=\"498.987\" y1=\"32.034\" x2=\"505.415\" y2=\"24.374\" stroke-linecap=\"round\" style=\"stroke:white;stroke-width:4\"/><line x1=\"507.343\" y1=\"22.076\" x2=\"513.771\" y2=\"14.416\" stroke-linecap=\"round\" style=\"stroke:white;stroke-width:4\"/><line x1=\"515.699\" y1=\"12.118\" x2=\"522.127\" y2=\"4.458\" stroke-linecap=\"round\" style=\"stroke:white;stroke-width:4\"/><line x1=\"524.055\" y1=\"2.16\" x2=\"530.483\" y2=\"-5.5\" stroke-linecap=\"round\" style=\"stroke:white;stroke-width:4\"/><line x1=\"532.411\" y1=\"-7.798\" x2=\"538.839\" y2=\"-15.458\" stroke-linecap=\"round\" style=\"stroke:white;stroke-width:4\"/><line x1=\"540.767\" y1=\"-17.756\" x2=\"547.195\" y2=\"-25.416\" stroke-linecap=\"round\" style=\"stroke:white;stroke-width:4\"/><line x1=\"549.123\" y1=\"-27.714\" x2=\"555.551\" y2=\"-35.374\" stroke-linecap=\"round\" style=\"stroke:white;stroke-width:4\"/><line x1=\"557.479\" y1=\"-37.672\" x2=\"563.907\" y2=\"-45.332\" stroke-linecap=\"round\" style=\"stroke:white;stroke-width:4\"/><line x1=\"565.835\" y1=\"-47.63\" x2=\"572.263\" y2=\"-55.29\" stroke-linecap=\"round\" style=\"stroke:white;stroke-width:4\"/><line x1=\"574.191\" y1=\"-57.588\" x2=\"580.619\" y2=\"-65.248\" stroke-linecap=\"round\" style=\"stroke:white;stroke-width:4\"/><line x1=\"582.547\" y1=\"-67.546\" x2=\"588.975\" y2=\"-75.206\" stroke-linecap=\"round\" style=\"stroke:white;stroke-width:4\"/><line x1=\"590.903\" y1=\"-77.504\" x2=\"597.331\" y2=\"-85.164\" stroke-linecap=\"round\" style=\"stroke:white;stroke-width:4\"/><line x1=\"599.259\" y1=\"-87.462\" x2=\"605.687\" y2=\"-95.122\" stroke-linecap=\"round\" style=\"stroke:white;stroke-width:4\"/><line x1=\"607.615\" y1=\"-97.42\" x2=\"614.043\" y2=\"-105.08\" stroke-linecap=\"round\" style=\"stroke:white;stroke-width:4\"/><line x1=\"615.971\" y1=\"-107.378\" x2=\"622.399\" y2=\"-115.038\" stroke-linecap=\"round\" style=\"stroke:white;stroke-width:4\"/><line x1=\"624.327\" y1=\"-117.336\" x2=\"630.755\" y2=\"-124.996\" stroke-linecap=\"round\" style=\"stroke:white;stroke-width:4\"/><line x1=\"641.039\" y1=\"-137.252\" x2=\"647.467\" y2=\"-144.912\" stroke-linecap=\"round\" style=\"stroke:white;stroke-width:4\"/><line x1=\"649.395\" y1=\"-147.21\" x2=\"655.823\" y2=\"-154.87\" stroke-linecap=\"round\" style=\"stroke:white;stroke-width:4\"/><line x1=\"657.751\" y1=\"-157.168\" x2=\"664.179\" y2=\"-164.828\" stroke-linecap=\"round\" style=\"stroke:white;stroke-width:4\"/><line x1=\"666.107\" y1=\"-167.126\" x2=\"672.535\" y2=\"-174.786\" stroke-linecap=\"round\" style=\"stroke:white;stroke-width:4\"/><line x1=\"674.463\" y1=\"-177.084\" x2=\"680.891\" y2=\"-184.744\" stroke-linecap=\"round\" style=\"stroke:white;stroke-width:4\"/><line x1=\"682.819\" y1=\"-187.042\" x2=\"689.247\" y2=\"-194.702\" stroke-linecap=\"round\" style=\"stroke:white;stroke-width:4\"/><line x1=\"691.175\" y1=\"-197.0\" x2=\"697.603\" y2=\"-204.66\" stroke-linecap=\"round\" style=\"stroke:white;stroke-width:4\"/><line x1=\"699.531\" y1=\"-206.958\" x2=\"705.959\" y2=\"-214.618\" stroke-linecap=\"round\" style=\"stroke:white;stroke-width:4\"/><line x1=\"707.887\" y1=\"-216.916\" x2=\"714.315\" y2=\"-224.576\" stroke-linecap=\"round\" style=\"stroke:white;stroke-width:4\"/><line x1=\"716.243\" y1=\"-226.874\" x2=\"722.671\" y2=\"-234.534\" stroke-linecap=\"round\" style=\"stroke:white;stroke-width:4\"/><line x1=\"724.599\" y1=\"-236.832\" x2=\"731.027\" y2=\"-244.492\" stroke-linecap=\"round\" style=\"stroke:white;stroke-width:4\"/><line x1=\"732.955\" y1=\"-246.79\" x2=\"739.383\" y2=\"-254.45\" stroke-linecap=\"round\" style=\"stroke:white;stroke-width:4\"/><line x1=\"741.311\" y1=\"-256.748\" x2=\"747.739\" y2=\"-264.408\" stroke-linecap=\"round\" style=\"stroke:white;stroke-width:4\"/><line x1=\"749.667\" y1=\"-266.706\" x2=\"756.095\" y2=\"-274.366\" stroke-linecap=\"round\" style=\"stroke:white;stroke-width:4\"/><line x1=\"758.023\" y1=\"-276.664\" x2=\"764.451\" y2=\"-284.324\" stroke-linecap=\"round\" style=\"stroke:white;stroke-width:4\"/><line x1=\"766.379\" y1=\"-286.622\" x2=\"772.807\" y2=\"-294.282\" stroke-linecap=\"round\" style=\"stroke:white;stroke-width:4\"/><line x1=\"774.735\" y1=\"-296.58\" x2=\"781.163\" y2=\"-304.24\" stroke-linecap=\"round\" style=\"stroke:white;stroke-width:4\"/><line x1=\"783.091\" y1=\"-306.538\" x2=\"789.519\" y2=\"-314.198\" stroke-linecap=\"round\" style=\"stroke:white;stroke-width:4\"/><line x1=\"791.447\" y1=\"-316.496\" x2=\"797.875\" y2=\"-324.156\" stroke-linecap=\"round\" style=\"stroke:white;stroke-width:4\"/>\n",
              "        <g visibility=visible transform=\"rotate(400,799.803,-326.454) translate(781.803, -344.454)\">\n",
              "<path style=\" stroke:none;fill-rule:evenodd;fill:white;fill-opacity:1;\" d=\"M 18.214844 0.632812 C 16.109375 1.800781 15.011719 4.074219 15.074219 7.132812 L 15.085938 7.652344 L 14.785156 7.496094 C 13.476562 6.824219 11.957031 6.671875 10.40625 7.066406 C 8.46875 7.550781 6.515625 9.15625 4.394531 11.992188 C 3.0625 13.777344 2.679688 14.636719 3.042969 15.027344 L 3.15625 15.152344 L 3.519531 15.152344 C 4.238281 15.152344 4.828125 14.886719 8.1875 13.039062 C 9.386719 12.378906 10.371094 11.839844 10.378906 11.839844 C 10.386719 11.839844 10.355469 11.929688 10.304688 12.035156 C 9.832031 13.09375 9.257812 14.820312 8.96875 16.078125 C 7.914062 20.652344 8.617188 24.53125 11.070312 27.660156 C 11.351562 28.015625 11.363281 27.914062 10.972656 28.382812 C 8.925781 30.84375 7.945312 33.28125 8.238281 35.1875 C 8.289062 35.527344 8.28125 35.523438 8.917969 35.523438 C 10.941406 35.523438 13.074219 34.207031 15.136719 31.6875 C 15.359375 31.417969 15.328125 31.425781 15.5625 31.574219 C 16.292969 32.042969 18.023438 32.964844 18.175781 32.964844 C 18.335938 32.964844 19.941406 32.210938 20.828125 31.71875 C 20.996094 31.625 21.136719 31.554688 21.136719 31.558594 C 21.203125 31.664062 21.898438 32.414062 22.222656 32.730469 C 23.835938 34.300781 25.5625 35.132812 27.582031 35.300781 C 27.90625 35.328125 27.9375 35.308594 28.007812 34.984375 C 28.382812 33.242188 27.625 30.925781 25.863281 28.425781 L 25.542969 27.96875 L 25.699219 27.785156 C 28.945312 23.960938 29.132812 18.699219 26.257812 11.96875 L 26.207031 11.84375 L 27.945312 12.703125 C 31.53125 14.476562 32.316406 14.800781 33.03125 14.800781 C 33.976562 14.800781 33.78125 13.9375 32.472656 12.292969 C 28.519531 7.355469 25.394531 5.925781 21.921875 7.472656 L 21.558594 7.636719 L 21.578125 7.542969 C 21.699219 6.992188 21.761719 5.742188 21.699219 5.164062 C 21.496094 3.296875 20.664062 1.964844 19.003906 0.855469 C 18.480469 0.503906 18.457031 0.5 18.214844 0.632812\"/>\n",
              "</g>\n",
              "      </svg>\n",
              "    "
            ]
          },
          "metadata": {}
        }
      ]
    },
    {
      "cell_type": "code",
      "source": [
        "li = list(range(2, 21, 3))\n",
        "print(li)"
      ],
      "metadata": {
        "colab": {
          "base_uri": "https://localhost:8080/"
        },
        "id": "yIQG_vtyNSBY",
        "outputId": "88aff0ff-6be0-4e73-a956-5f2e0f487e5d"
      },
      "execution_count": null,
      "outputs": [
        {
          "output_type": "stream",
          "name": "stdout",
          "text": [
            "[2, 5, 8, 11, 14, 17, 20]\n"
          ]
        }
      ]
    },
    {
      "cell_type": "code",
      "source": [
        "n = input(\"Enter a positive integer\")\n",
        "n = int(n)\n",
        "m=1\n",
        "while m<=10:\n",
        "  print(n, \"x\", m, \"=\", n*m)\n",
        "  m+=1"
      ],
      "metadata": {
        "colab": {
          "base_uri": "https://localhost:8080/"
        },
        "id": "MQYtx3KEOD7b",
        "outputId": "5e179cac-1b64-46bd-f1b7-263cb91cd05c"
      },
      "execution_count": null,
      "outputs": [
        {
          "output_type": "stream",
          "name": "stdout",
          "text": [
            "Enter a positive integer10\n",
            "10 x 1 = 10\n",
            "10 x 2 = 20\n",
            "10 x 3 = 30\n",
            "10 x 4 = 40\n",
            "10 x 5 = 50\n",
            "10 x 6 = 60\n",
            "10 x 7 = 70\n",
            "10 x 8 = 80\n",
            "10 x 9 = 90\n",
            "10 x 10 = 100\n"
          ]
        }
      ]
    },
    {
      "cell_type": "code",
      "source": [
        "while True:\n",
        "  n = int(input(\"Please enter a number (0 to exit): \"))\n",
        "  if n == 0:\n",
        "    break\n",
        "  print(\"Square of\", n, \"is\", n*n)\n",
        "\n"
      ],
      "metadata": {
        "colab": {
          "base_uri": "https://localhost:8080/"
        },
        "id": "NZ_syZPhO69j",
        "outputId": "9a7fe6e4-c92b-4bc2-d2c0-780c6c317bf4"
      },
      "execution_count": null,
      "outputs": [
        {
          "name": "stdout",
          "output_type": "stream",
          "text": [
            "Please enter a number (0 to exit): 2\n",
            "Square of 2 is 4\n",
            "Please enter a number (0 to exit): 10\n",
            "Square of 10 is 100\n",
            "Please enter a number (0 to exit): 0\n"
          ]
        }
      ]
    },
    {
      "cell_type": "code",
      "source": [
        "terminate = False\n",
        "while not terminate:\n",
        "  number1 = int(input(\"Enter first number: \"))\n",
        "  number2 = int(input(\"Enter second number: \"))\n",
        "\n",
        "  while True:\n",
        "    operation = input(\"PLease enter add/sub or quit to ext:\")\n",
        "    if operation == \"quit\":\n",
        "      terminate = True\n",
        "      break\n",
        "    if operation not in [\"add\", \"sub\"]:\n",
        "      print(\"Unknown operation!\")\n",
        "      continue\n",
        "    if operation == \"add\":\n",
        "      print(\"Result is\", number1+number2)\n",
        "    if operation == \"sub\":\n",
        "      print(\"Result is\", number1-number2)\n",
        "      break"
      ],
      "metadata": {
        "colab": {
          "base_uri": "https://localhost:8080/"
        },
        "id": "59eMS9AFTQFq",
        "outputId": "9960835f-c5a6-4c70-e957-a3e84da21641"
      },
      "execution_count": null,
      "outputs": [
        {
          "name": "stdout",
          "output_type": "stream",
          "text": [
            "Enter first number: 46\n",
            "Enter second number: 36\n",
            "PLease enter add/sub or quit to ext:add\n",
            "Result is 82\n",
            "PLease enter add/sub or quit to ext:quit\n"
          ]
        }
      ]
    },
    {
      "cell_type": "code",
      "source": [
        "def add(n1,n2):\n",
        "  return n1+n2"
      ],
      "metadata": {
        "id": "2afj3mizvm0j"
      },
      "execution_count": null,
      "outputs": []
    },
    {
      "cell_type": "code",
      "source": [
        "n = int(input(\"n:\"))\n",
        "m = int(input(\"m:\"))\n",
        "\n",
        "result = add(n,m)\n",
        "print(result)"
      ],
      "metadata": {
        "colab": {
          "base_uri": "https://localhost:8080/"
        },
        "id": "RgZ2CKTmwcl-",
        "outputId": "89089155-13d1-4bd6-ff1d-45c634f76101"
      },
      "execution_count": null,
      "outputs": [
        {
          "output_type": "stream",
          "name": "stdout",
          "text": [
            "n:4\n",
            "m:5\n",
            "9\n"
          ]
        }
      ]
    },
    {
      "cell_type": "code",
      "source": [
        "import matplotlib.pyplot as plt\n",
        "\n",
        "def draw_square(side_length):\n",
        "    x = 0\n",
        "    y = 0\n",
        "\n",
        "    fig, ax = plt.subplots()\n",
        "\n",
        "    for i in range(4):\n",
        "        if i % 2 == 0:\n",
        "            x += side_length\n",
        "        else:\n",
        "            y += side_length\n",
        "\n",
        "        ax.plot([x - side_length, x], [y - side_length, y], color='black')\n",
        "        ax.plot([x, x], [y - side_length, y], color='black')\n",
        "        ax.plot([x - side_length, x], [y, y], color='black')\n",
        "        ax.plot([x - side_length, x - side_length], [y - side_length, y], color='black')\n",
        "\n",
        "    ax.set_xlim(0, x + side_length)\n",
        "    ax.set_ylim(0, y + side_length)\n",
        "    ax.set_aspect('equal')\n",
        "\n",
        "    plt.show()\n",
        "\n",
        "draw_square(100)\n"
      ],
      "metadata": {
        "colab": {
          "base_uri": "https://localhost:8080/",
          "height": 435
        },
        "id": "n2qgCcPpw1Xt",
        "outputId": "b2cfa435-2d18-486b-e0fb-426590aae2ac"
      },
      "execution_count": null,
      "outputs": [
        {
          "output_type": "display_data",
          "data": {
            "text/plain": [
              "<Figure size 640x480 with 1 Axes>"
            ],
            "image/png": "[encoded data removed]"
          },
          "metadata": {}
        }
      ]
    },
    {
      "cell_type": "code",
      "source": [
        "def myfnc(x):\n",
        "  print(\"inside myfnc\", x)\n",
        "  x = 10\n",
        "  print(\"inside myfnc\", x)\n",
        "x = 20\n",
        "myfnc(x)\n",
        "print(x)"
      ],
      "metadata": {
        "colab": {
          "base_uri": "https://localhost:8080/"
        },
        "id": "CIRRs-8PygZS",
        "outputId": "59fcaee1-9b8a-4d17-9a76-57ec3f63b071"
      },
      "execution_count": null,
      "outputs": [
        {
          "output_type": "stream",
          "name": "stdout",
          "text": [
            "inside myfnc 20\n",
            "inside myfnc 10\n",
            "20\n"
          ]
        }
      ]
    },
    {
      "cell_type": "code",
      "source": [
        "def myfnc(x=2,y=10,z=0):\n",
        "  print(\"x =\",x,\"y =\",y,\"z =\",z)\n",
        "x=5\n",
        "y=6\n",
        "z=7\n",
        "myfnc(x,y,z)"
      ],
      "metadata": {
        "colab": {
          "base_uri": "https://localhost:8080/"
        },
        "id": "4FZJS666zxCe",
        "outputId": "a6753fea-9e3d-46c9-8057-1cf0ca40eb45"
      },
      "execution_count": null,
      "outputs": [
        {
          "output_type": "stream",
          "name": "stdout",
          "text": [
            "x = 5 y = 6 z = 7\n"
          ]
        }
      ]
    },
    {
      "cell_type": "code",
      "source": [
        "def myfnc(x,z,y=10):\n",
        "  print(\"x =\",x,\"y =\",y,\"z =\",z)\n",
        "\n",
        "myfnc(x=1,y=2,z=5)\n",
        "a=5\n",
        "b=6\n",
        "myfnc(x=a,z=b)\n",
        "a=1\n",
        "b=2\n",
        "c=3\n",
        "myfnc(y = a,z = b, x = c)"
      ],
      "metadata": {
        "colab": {
          "base_uri": "https://localhost:8080/"
        },
        "id": "UtkCQc6t1pyx",
        "outputId": "825900e6-247a-4842-c3fe-ee7b67052280"
      },
      "execution_count": null,
      "outputs": [
        {
          "output_type": "stream",
          "name": "stdout",
          "text": [
            "x = 1 y = 2 z = 5\n",
            "x = 5 y = 10 z = 6\n",
            "x = 3 y = 1 z = 2\n"
          ]
        }
      ]
    },
    {
      "cell_type": "code",
      "source": [
        "def add_numbers(number):\n",
        "  result = 0\n",
        "  for number in number:\n",
        "    result += number\n",
        "  return result\n",
        "\n",
        "result = add_numbers([1,2,30,4,5,9])\n",
        "print(result)"
      ],
      "metadata": {
        "colab": {
          "base_uri": "https://localhost:8080/"
        },
        "id": "rtGBdhRP2cLN",
        "outputId": "e2d7664f-4ad9-49e5-c25d-08fc209b3b5f"
      },
      "execution_count": null,
      "outputs": [
        {
          "output_type": "stream",
          "name": "stdout",
          "text": [
            "51\n"
          ]
        }
      ]
    },
    {
      "cell_type": "code",
      "source": [
        "def test_fnc(li):\n",
        "  li[0] = 10\n",
        "\n",
        "my_list = [1,2,3,4]\n",
        "print(\"before function call\", my_list)\n",
        "test_fnc(my_list)\n",
        "print(\"after function call\", my_list)"
      ],
      "metadata": {
        "colab": {
          "base_uri": "https://localhost:8080/"
        },
        "id": "PlgW_aTmYc3z",
        "outputId": "b1731608-2ff2-4c26-cf28-bcfcb61816fa"
      },
      "execution_count": null,
      "outputs": [
        {
          "output_type": "stream",
          "name": "stdout",
          "text": [
            "before function call [1, 2, 3, 4]\n",
            "after function call [10, 2, 3, 4]\n"
          ]
        }
      ]
    },
    {
      "cell_type": "code",
      "source": [
        "li = [1,2,3]\n",
        "result = sum(li)\n",
        "print(result)"
      ],
      "metadata": {
        "colab": {
          "base_uri": "https://localhost:8080/"
        },
        "id": "kSfSfdtpe9c6",
        "outputId": "bcb4dcaf-222b-49f0-bfcd-908022617a70"
      },
      "execution_count": null,
      "outputs": [
        {
          "output_type": "stream",
          "name": "stdout",
          "text": [
            "6\n"
          ]
        }
      ]
    },
    {
      "cell_type": "code",
      "source": [
        "s = \"hello\"\n",
        "len(s)"
      ],
      "metadata": {
        "colab": {
          "base_uri": "https://localhost:8080/"
        },
        "id": "RZwnMKCyfMaT",
        "outputId": "f046d649-8d03-46a9-9a8a-ad41cbf420ff"
      },
      "execution_count": null,
      "outputs": [
        {
          "output_type": "execute_result",
          "data": {
            "text/plain": [
              "5"
            ]
          },
          "metadata": {},
          "execution_count": 3
        }
      ]
    },
    {
      "cell_type": "code",
      "source": [
        "country = \"Bangladesh\"\n",
        "country [0]"
      ],
      "metadata": {
        "colab": {
          "base_uri": "https://localhost:8080/",
          "height": 35
        },
        "id": "OkN1ZIE1gPkI",
        "outputId": "07bdb7d9-bccc-4540-fb4d-f38c6438fe12"
      },
      "execution_count": null,
      "outputs": [
        {
          "output_type": "execute_result",
          "data": {
            "text/plain": [
              "'B'"
            ],
            "application/vnd.google.colaboratory.intrinsic+json": {
              "type": "string"
            }
          },
          "metadata": {},
          "execution_count": 4
        }
      ]
    },
    {
      "cell_type": "code",
      "source": [
        "country = \"Bangla\" + \"Desh\"\n",
        "print(country)"
      ],
      "metadata": {
        "colab": {
          "base_uri": "https://localhost:8080/"
        },
        "id": "kC1DZHIQglh_",
        "outputId": "60d56cc7-7fb6-4cd5-8233-595ae60ade03"
      },
      "execution_count": null,
      "outputs": [
        {
          "output_type": "stream",
          "name": "stdout",
          "text": [
            "BanglaDesh\n"
          ]
        }
      ]
    },
    {
      "cell_type": "code",
      "source": [
        "country = \"North Korea\"\n",
        "new_country = country.replace(\"North\",\"South\")\n",
        "print(new_country)"
      ],
      "metadata": {
        "colab": {
          "base_uri": "https://localhost:8080/"
        },
        "id": "PCkmeOXLg1Ky",
        "outputId": "29ba4d4b-1964-4cc3-aca9-65eec04a928d"
      },
      "execution_count": null,
      "outputs": [
        {
          "output_type": "stream",
          "name": "stdout",
          "text": [
            "South Korea\n"
          ]
        }
      ]
    },
    {
      "cell_type": "code",
      "source": [
        "s1 = \"America\"\n",
        "s_up = s1.upper()\n",
        "s_up"
      ],
      "metadata": {
        "colab": {
          "base_uri": "https://localhost:8080/",
          "height": 35
        },
        "id": "6WOTZSPviho8",
        "outputId": "1d9fb5fa-6e0b-4a08-8428-ca2b06d71b18"
      },
      "execution_count": null,
      "outputs": [
        {
          "output_type": "execute_result",
          "data": {
            "text/plain": [
              "'AMERICA'"
            ],
            "application/vnd.google.colaboratory.intrinsic+json": {
              "type": "string"
            }
          },
          "metadata": {},
          "execution_count": 7
        }
      ]
    },
    {
      "cell_type": "code",
      "source": [
        "s_lo = s1.lower()\n",
        "s_lo"
      ],
      "metadata": {
        "colab": {
          "base_uri": "https://localhost:8080/",
          "height": 35
        },
        "id": "AFliwR5zirHm",
        "outputId": "6846118b-946b-4a9b-cf59-b049a725ce4f"
      },
      "execution_count": null,
      "outputs": [
        {
          "output_type": "execute_result",
          "data": {
            "text/plain": [
              "'america'"
            ],
            "application/vnd.google.colaboratory.intrinsic+json": {
              "type": "string"
            }
          },
          "metadata": {},
          "execution_count": 8
        }
      ]
    },
    {
      "cell_type": "code",
      "source": [
        "str = \" I am a programmer \"\n",
        "words = str.split()\n",
        "print(words)"
      ],
      "metadata": {
        "colab": {
          "base_uri": "https://localhost:8080/"
        },
        "id": "plA7BkOki0Av",
        "outputId": "94315907-cfb2-4682-c187-a45a071d1084"
      },
      "execution_count": null,
      "outputs": [
        {
          "output_type": "stream",
          "name": "stdout",
          "text": [
            "['I', 'am', 'a', 'programmer']\n"
          ]
        }
      ]
    },
    {
      "cell_type": "code",
      "source": [
        "str = \"This is\"\n",
        "str.count(\"is\")"
      ],
      "metadata": {
        "id": "6wnQChUHjPXK",
        "outputId": "bfddbb9d-d00f-47f0-8da0-d9588b3722e3",
        "colab": {
          "base_uri": "https://localhost:8080/"
        }
      },
      "execution_count": null,
      "outputs": [
        {
          "output_type": "execute_result",
          "data": {
            "text/plain": [
              "2"
            ]
          },
          "metadata": {},
          "execution_count": 10
        }
      ]
    },
    {
      "cell_type": "code",
      "source": [
        "str = \"a quick brown fox jumps over the lazy dog\"\n",
        "for c in \"abcdefghijklmnopqrstuvwxyz\":\n",
        "  print(c,str.count(c))"
      ],
      "metadata": {
        "colab": {
          "base_uri": "https://localhost:8080/"
        },
        "id": "8yfBugD7173S",
        "outputId": "00c1a7ab-d2a3-4827-9511-8869047fefc8"
      },
      "execution_count": null,
      "outputs": [
        {
          "output_type": "stream",
          "name": "stdout",
          "text": [
            "a 2\n",
            "b 1\n",
            "c 1\n",
            "d 1\n",
            "e 2\n",
            "f 1\n",
            "g 1\n",
            "h 1\n",
            "i 1\n",
            "j 1\n",
            "k 1\n",
            "l 1\n",
            "m 1\n",
            "n 1\n",
            "o 4\n",
            "p 1\n",
            "q 1\n",
            "r 2\n",
            "s 1\n",
            "t 1\n",
            "u 2\n",
            "v 1\n",
            "w 1\n",
            "x 1\n",
            "y 1\n",
            "z 1\n"
          ]
        }
      ]
    },
    {
      "cell_type": "code",
      "source": [
        "li = [1,3,2,7,4,6,5,9,8]\n",
        "li.sort()\n",
        "print(li)"
      ],
      "metadata": {
        "colab": {
          "base_uri": "https://localhost:8080/"
        },
        "id": "b0EA7wOy3GKW",
        "outputId": "08879d4c-2ce8-41e6-9fb7-a13be9bd16d8"
      },
      "execution_count": null,
      "outputs": [
        {
          "output_type": "stream",
          "name": "stdout",
          "text": [
            "[1, 2, 3, 4, 5, 6, 7, 8, 9]\n"
          ]
        }
      ]
    },
    {
      "cell_type": "code",
      "source": [
        "li.reverse()\n",
        "print(li)"
      ],
      "metadata": {
        "colab": {
          "base_uri": "https://localhost:8080/"
        },
        "id": "ElDyU2JV6IYI",
        "outputId": "ac545b27-70a6-4538-bd56-23747159048a"
      },
      "execution_count": null,
      "outputs": [
        {
          "output_type": "stream",
          "name": "stdout",
          "text": [
            "[9, 8, 7, 6, 5, 4, 3, 2, 1]\n"
          ]
        }
      ]
    },
    {
      "cell_type": "code",
      "source": [
        "fruits = [\"mango\",\"banana\",\"apple\"]\n",
        "fruits.insert(0,\"apple\")\n",
        "fruits"
      ],
      "metadata": {
        "colab": {
          "base_uri": "https://localhost:8080/"
        },
        "id": "-P20tnn36fqO",
        "outputId": "c2fcbf26-3d5d-444b-e9a5-5369247e5b4c"
      },
      "execution_count": null,
      "outputs": [
        {
          "output_type": "execute_result",
          "data": {
            "text/plain": [
              "['apple', 'mango', 'banana', 'apple']"
            ]
          },
          "metadata": {},
          "execution_count": 10
        }
      ]
    },
    {
      "cell_type": "code",
      "source": [
        "li = [1,2,3,4]\n",
        "new_li = []\n",
        "for x in li:\n",
        "  new_li.append( 2 * x)\n",
        "\n",
        "print (new_li)"
      ],
      "metadata": {
        "colab": {
          "base_uri": "https://localhost:8080/"
        },
        "id": "TecuhlFE1ihl",
        "outputId": "349224e2-1d24-41e4-d377-c17e9db96750"
      },
      "execution_count": null,
      "outputs": [
        {
          "output_type": "stream",
          "name": "stdout",
          "text": [
            "[2, 4, 6, 8]\n"
          ]
        }
      ]
    },
    {
      "cell_type": "code",
      "source": [
        "A = set(\"Bangladesh\")\n",
        "A"
      ],
      "metadata": {
        "id": "xzENIiM31QTl",
        "colab": {
          "base_uri": "https://localhost:8080/"
        },
        "outputId": "3d6e8c5c-b0a9-44a2-8675-3e100d1e5f5c"
      },
      "execution_count": 5,
      "outputs": [
        {
          "output_type": "execute_result",
          "data": {
            "text/plain": [
              "{'B', 'a', 'd', 'e', 'g', 'h', 'l', 'n', 's'}"
            ]
          },
          "metadata": {},
          "execution_count": 5
        }
      ]
    },
    {
      "cell_type": "code",
      "source": [
        "type (A)"
      ],
      "metadata": {
        "colab": {
          "base_uri": "https://localhost:8080/"
        },
        "id": "3Jozr4TIvL7H",
        "outputId": "2c1e334a-3313-493b-dbab-0c3481b45dda"
      },
      "execution_count": 7,
      "outputs": [
        {
          "output_type": "execute_result",
          "data": {
            "text/plain": [
              "set"
            ]
          },
          "metadata": {},
          "execution_count": 7
        }
      ]
    },
    {
      "cell_type": "code",
      "source": [
        "li = [1,2,3,4,5,6,7,8,9]\n",
        "even_number=[]\n",
        "for x in li:\n",
        "  if x%2 == 0:\n",
        "      even_number.append(x)\n",
        "\n",
        "print(even_number)"
      ],
      "metadata": {
        "colab": {
          "base_uri": "https://localhost:8080/"
        },
        "id": "Aae7MwOovaZK",
        "outputId": "b7b76861-e651-4650-9c1b-e1af2e78fa53"
      },
      "execution_count": 8,
      "outputs": [
        {
          "output_type": "stream",
          "name": "stdout",
          "text": [
            "[2, 4, 6, 8]\n"
          ]
        }
      ]
    }
  ]
}