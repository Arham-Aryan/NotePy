{
  "nbformat": 4,
  "nbformat_minor": 0,
  "metadata": {
    "colab": {
      "provenance": [],
      "authorship_tag": "ABX9TyPmDWQZvm2yy7iB8ke5DYp7",
      "include_colab_link": true
    },
    "kernelspec": {
      "name": "python3",
      "display_name": "Python 3"
    },
    "language_info": {
      "name": "python"
    }
  },
  "cells": [
    {
      "cell_type": "markdown",
      "metadata": {
        "id": "view-in-github",
        "colab_type": "text"
      },
      "source": [
        "<a href=\"https://colab.research.google.com/github/Arham-Aryan/NotePy/blob/main/NotePy.ipynb\" target=\"_parent\"><img src=\"https://colab.research.google.com/assets/colab-badge.svg\" alt=\"Open In Colab\"/></a>"
      ]
    },
    {
      "cell_type": "code",
      "execution_count": null,
      "metadata": {
        "colab": {
          "base_uri": "https://localhost:8080/"
        },
        "id": "aGE8nb1Hge4p",
        "outputId": "f0e5abcc-f686-4733-d0ef-fb9b4dd4ed04"
      },
      "outputs": [
        {
          "output_type": "stream",
          "name": "stdout",
          "text": [
            "This is Arham\n"
          ]
        }
      ],
      "source": [
        "print(\"This is Arham\")"
      ]
    },
    {
      "cell_type": "code",
      "source": [
        "text = \"Hello Guys\"\n",
        "print (text)"
      ],
      "metadata": {
        "colab": {
          "base_uri": "https://localhost:8080/"
        },
        "id": "jUAS9S4dhb26",
        "outputId": "fae33f88-0055-4857-947f-d2097e645904"
      },
      "execution_count": null,
      "outputs": [
        {
          "output_type": "stream",
          "name": "stdout",
          "text": [
            "Hello Guys\n"
          ]
        }
      ]
    },
    {
      "cell_type": "code",
      "source": [
        "number1 = 10\n",
        "number2 = 5\n",
        "\n",
        "result = number1 + number2\n",
        "print (result)"
      ],
      "metadata": {
        "colab": {
          "base_uri": "https://localhost:8080/"
        },
        "id": "_A5smkyzhodW",
        "outputId": "2f4c0b88-0e68-4e90-a251-21221dd69f74"
      },
      "execution_count": null,
      "outputs": [
        {
          "output_type": "stream",
          "name": "stdout",
          "text": [
            "15\n"
          ]
        }
      ]
    },
    {
      "cell_type": "code",
      "source": [
        "number1 = input (\"Pleased type an integer and press enter: \")\n",
        "number2 = input (\"Type another integer and press enter:  \")\n",
        "number1 = int(number1)\n",
        "number2 = int(number2)\n",
        "print (\"number1+number2 = \",number1+number2)"
      ],
      "metadata": {
        "id": "qd-lV99SiC4T",
        "colab": {
          "base_uri": "https://localhost:8080/"
        },
        "outputId": "b5b3fddc-34da-4dda-fb04-dbec52cb2d2a"
      },
      "execution_count": null,
      "outputs": [
        {
          "output_type": "stream",
          "name": "stdout",
          "text": [
            "Pleased type an integer and press enter: 4\n",
            "Type another integer and press enter:  9\n",
            "number1+number2 =  13\n"
          ]
        }
      ]
    },
    {
      "cell_type": "code",
      "source": [
        "Murphy = 40\n",
        "Nolan = 30\n",
        "Murphy >= Nolan"
      ],
      "metadata": {
        "colab": {
          "base_uri": "https://localhost:8080/"
        },
        "id": "KvlsHxlu_FUe",
        "outputId": "63e3a77f-8dc0-4858-fa4e-613ed3983376"
      },
      "execution_count": null,
      "outputs": [
        {
          "output_type": "execute_result",
          "data": {
            "text/plain": [
              "True"
            ]
          },
          "metadata": {},
          "execution_count": 8
        }
      ]
    },
    {
      "cell_type": "code",
      "source": [
        "today = \"Wednesday\"\n",
        "not (today == \"Wednesday\")\n"
      ],
      "metadata": {
        "colab": {
          "base_uri": "https://localhost:8080/"
        },
        "id": "zqOs3ZSu_9mw",
        "outputId": "6c307399-c25d-44b7-f6ad-13f50fd90dc1"
      },
      "execution_count": null,
      "outputs": [
        {
          "output_type": "execute_result",
          "data": {
            "text/plain": [
              "False"
            ]
          },
          "metadata": {},
          "execution_count": 13
        }
      ]
    },
    {
      "cell_type": "code",
      "source": [
        "number = 20\n",
        "number>10 or number>100"
      ],
      "metadata": {
        "colab": {
          "base_uri": "https://localhost:8080/"
        },
        "id": "HnnX2sjhAuqu",
        "outputId": "b1006e8b-c6aa-49f6-b59c-9aec79401665"
      },
      "execution_count": null,
      "outputs": [
        {
          "output_type": "execute_result",
          "data": {
            "text/plain": [
              "True"
            ]
          },
          "metadata": {},
          "execution_count": 16
        }
      ]
    },
    {
      "cell_type": "code",
      "source": [
        "saarc = [\"Bangladesh\",\"Pakistan\",\"Sri Lanka\", \"Nepal\", \"Bhutan\"]\n",
        "print(saarc)\n",
        "print(saarc[0])"
      ],
      "metadata": {
        "colab": {
          "base_uri": "https://localhost:8080/"
        },
        "id": "Hi8Bff--C572",
        "outputId": "0472bc6e-17a6-44ae-e394-32200ed69d7c"
      },
      "execution_count": null,
      "outputs": [
        {
          "output_type": "stream",
          "name": "stdout",
          "text": [
            "['Bangladesh', 'Pakistan', 'Sri Lanka', 'Nepal', 'Bhutan']\n",
            "Bangladesh\n"
          ]
        }
      ]
    },
    {
      "cell_type": "code",
      "source": [
        "print(\"Number of countries in saarc: \",len(saarc))"
      ],
      "metadata": {
        "colab": {
          "base_uri": "https://localhost:8080/"
        },
        "id": "aJ0kzHeHDlB1",
        "outputId": "b7a25cb4-0826-42b2-98b6-948bf6fd7bf3"
      },
      "execution_count": null,
      "outputs": [
        {
          "output_type": "stream",
          "name": "stdout",
          "text": [
            "Number of countries in saarc:  5\n"
          ]
        }
      ]
    },
    {
      "cell_type": "code",
      "source": [
        "\"China\" in saarc"
      ],
      "metadata": {
        "colab": {
          "base_uri": "https://localhost:8080/"
        },
        "id": "SeiGqtN3DzlG",
        "outputId": "8c3002e1-7bff-4bc0-84c2-0ecf95ada71d"
      },
      "execution_count": null,
      "outputs": [
        {
          "output_type": "execute_result",
          "data": {
            "text/plain": [
              "False"
            ]
          },
          "metadata": {},
          "execution_count": 22
        }
      ]
    },
    {
      "cell_type": "code",
      "source": [
        "country = input(\"Enter name of the country: \")\n",
        "if country in saarc:\n",
        "  print(country, \"is a member of saarc\")\n",
        "\n",
        "else:\n",
        "  print(country, \"not a member of saaec\")\n",
        "\n",
        "print(\"Program terminated\")"
      ],
      "metadata": {
        "colab": {
          "base_uri": "https://localhost:8080/"
        },
        "id": "Zf9dzF9AD6U5",
        "outputId": "086339c4-aa80-4400-8dc8-178159d5c6a1"
      },
      "execution_count": null,
      "outputs": [
        {
          "output_type": "stream",
          "name": "stdout",
          "text": [
            "Enter name of the country: Vietnam\n",
            "Vietnam not a member of saaec\n",
            "Program terminated\n"
          ]
        }
      ]
    },
    {
      "cell_type": "code",
      "source": [
        "marks = input(\"Please enter your marks: \")\n",
        "marks = int(marks)\n",
        "\n",
        "if marks>=80:\n",
        "  grade = \"A+\"\n",
        "elif marks>=70:\n",
        "  grade = \"A\"\n",
        "elif marks>=60:\n",
        "  grade = \"B\"\n",
        "else:\n",
        "  grade = \"F\"\n",
        "\n",
        "print(\"Your obtained grade is : \",grade)"
      ],
      "metadata": {
        "colab": {
          "base_uri": "https://localhost:8080/"
        },
        "id": "RBe7pDfeFFAG",
        "outputId": "2a2985b9-af85-48ae-8c5a-dae39038313d"
      },
      "execution_count": null,
      "outputs": [
        {
          "output_type": "stream",
          "name": "stdout",
          "text": [
            "Please enter your marks: 77\n",
            "Your obtained grade is :  A\n"
          ]
        }
      ]
    },
    {
      "cell_type": "code",
      "source": [
        "a=30\n",
        "b=20\n",
        "c=25\n",
        "if a>b:\n",
        "  max_number = a\n",
        "else:\n",
        "  max_number = b\n",
        "max_number"
      ],
      "metadata": {
        "colab": {
          "base_uri": "https://localhost:8080/"
        },
        "id": "CViTiu-K99fb",
        "outputId": "6cf9fb76-0d41-47f6-ba2c-adf2715d1fb0"
      },
      "execution_count": 5,
      "outputs": [
        {
          "output_type": "execute_result",
          "data": {
            "text/plain": [
              "30"
            ]
          },
          "metadata": {},
          "execution_count": 5
        }
      ]
    },
    {
      "cell_type": "code",
      "source": [
        "if c>max_number:\n",
        "  max_number = c\n",
        "max_number"
      ],
      "metadata": {
        "colab": {
          "base_uri": "https://localhost:8080/"
        },
        "id": "5jIP5epf_oAr",
        "outputId": "04263d25-4191-4793-b77e-39d9e94e71cd"
      },
      "execution_count": 6,
      "outputs": [
        {
          "output_type": "execute_result",
          "data": {
            "text/plain": [
              "30"
            ]
          },
          "metadata": {},
          "execution_count": 6
        }
      ]
    },
    {
      "cell_type": "code",
      "source": [
        "year = int(input(\"Enter the year: \"))\n",
        "if year % 4 == 0:\n",
        "    if year % 100 == 0:\n",
        "        if year % 400 == 0:\n",
        "            print(\"Yes\")\n",
        "        else:\n",
        "            print(\"No\")\n",
        "    else:\n",
        "        print(\"Yes\")\n",
        "else:\n",
        "    print(\"No\")\n"
      ],
      "metadata": {
        "colab": {
          "base_uri": "https://localhost:8080/"
        },
        "id": "3fJDW7-x_3uz",
        "outputId": "70814d65-2fc2-463c-e976-c84157fe9782"
      },
      "execution_count": 12,
      "outputs": [
        {
          "output_type": "stream",
          "name": "stdout",
          "text": [
            "Enter the year: 2000\n",
            "Yes\n"
          ]
        }
      ]
    },
    {
      "cell_type": "code",
      "source": [
        "for i in range(10):\n",
        "  print(\" I want to be a great programmer.\")\n"
      ],
      "metadata": {
        "colab": {
          "base_uri": "https://localhost:8080/"
        },
        "id": "Om-5e--GA5ZB",
        "outputId": "8e195a34-9db5-4d42-b61b-030f966136af"
      },
      "execution_count": 15,
      "outputs": [
        {
          "output_type": "stream",
          "name": "stdout",
          "text": [
            " I want to be a great programmer.\n",
            " I want to be a great programmer.\n",
            " I want to be a great programmer.\n",
            " I want to be a great programmer.\n",
            " I want to be a great programmer.\n",
            " I want to be a great programmer.\n",
            " I want to be a great programmer.\n",
            " I want to be a great programmer.\n",
            " I want to be a great programmer.\n",
            " I want to be a great programmer.\n"
          ]
        }
      ]
    },
    {
      "cell_type": "code",
      "source": [
        "result = 0\n",
        "for i in range(50):\n",
        "  result += 1\n",
        "\n",
        "print(result)"
      ],
      "metadata": {
        "colab": {
          "base_uri": "https://localhost:8080/"
        },
        "id": "QruXLVRrDScM",
        "outputId": "5276d7a6-b336-45b7-a2c0-7926821a5e78"
      },
      "execution_count": 17,
      "outputs": [
        {
          "output_type": "stream",
          "name": "stdout",
          "text": [
            "50\n"
          ]
        }
      ]
    },
    {
      "cell_type": "code",
      "source": [
        "result = 0\n",
        "number = 1\n",
        "for i in range (50):\n",
        "  result = result + number\n",
        "  number = number + 1\n",
        "print (result)"
      ],
      "metadata": {
        "colab": {
          "base_uri": "https://localhost:8080/"
        },
        "id": "woWuEMEPDilA",
        "outputId": "91a1edcb-87ad-4254-8f69-7e7d6ad003ce"
      },
      "execution_count": 21,
      "outputs": [
        {
          "output_type": "stream",
          "name": "stdout",
          "text": [
            "1275\n"
          ]
        }
      ]
    }
  ]
}